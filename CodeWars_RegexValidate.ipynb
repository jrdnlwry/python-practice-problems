{
 "cells": [
  {
   "cell_type": "markdown",
   "id": "cef60f9c-4346-42a9-8a27-456289ea75dd",
   "metadata": {},
   "source": [
    "# Regex validate PIN code\n",
    "\n",
    "ATM machines allow 4 or 6 digit PIN codes and PIN codes cannot contain anything but exactly 4 digits or exactly 6 digits.\n",
    "\n",
    "If the function is passed a valid PIN string, return true, else return false."
   ]
  },
  {
   "cell_type": "code",
   "execution_count": 37,
   "id": "5dfecd9e-3cd6-49c0-b4c6-162b84d2b06a",
   "metadata": {},
   "outputs": [],
   "source": [
    "# test cases\n",
    "pin = \"1234\"\n",
    "pin1 = \"12345\"\n",
    "pin2 = \"ab234\"\n",
    "pin3 = \"a234\"\n",
    "pin4 = \"-12345\""
   ]
  },
  {
   "cell_type": "code",
   "execution_count": 32,
   "id": "cbc5e7f2-829d-4ccc-b0e7-ce65e2eb9785",
   "metadata": {},
   "outputs": [
    {
     "data": {
      "text/plain": [
       "'ab234'"
      ]
     },
     "metadata": {},
     "output_type": "display_data"
    },
    {
     "data": {
      "text/plain": [
       "False"
      ]
     },
     "execution_count": 32,
     "metadata": {},
     "output_type": "execute_result"
    }
   ],
   "source": [
    "display(pin2)\n",
    "# convert to integer\n",
    "pin2.isdigit()"
   ]
  },
  {
   "cell_type": "code",
   "execution_count": 19,
   "id": "67c7d125-49e4-46b1-bcd1-f3c74647b61e",
   "metadata": {},
   "outputs": [
    {
     "data": {
      "text/plain": [
       "4"
      ]
     },
     "execution_count": 19,
     "metadata": {},
     "output_type": "execute_result"
    }
   ],
   "source": [
    "len(pin)"
   ]
  },
  {
   "cell_type": "code",
   "execution_count": 39,
   "id": "b5135713-0114-4161-88b8-4140b66e7543",
   "metadata": {},
   "outputs": [],
   "source": [
    "def validate_pin(pin):\n",
    "    # check the length of the input\n",
    "    if len(pin) == 4 or len(pin) == 6:\n",
    "        if pin.isdigit() == True:\n",
    "            return True\n",
    "        else:\n",
    "            return False\n",
    "    # check that each element if an integer\n",
    "    else:\n",
    "        return False"
   ]
  },
  {
   "cell_type": "code",
   "execution_count": 44,
   "id": "32c4b84a-75e3-4a92-aa4d-9fee3575614d",
   "metadata": {},
   "outputs": [
    {
     "data": {
      "text/plain": [
       "True"
      ]
     },
     "execution_count": 44,
     "metadata": {},
     "output_type": "execute_result"
    }
   ],
   "source": [
    "validate_pin(pin)"
   ]
  }
 ],
 "metadata": {
  "kernelspec": {
   "display_name": "Python 3 (ipykernel)",
   "language": "python",
   "name": "python3"
  },
  "language_info": {
   "codemirror_mode": {
    "name": "ipython",
    "version": 3
   },
   "file_extension": ".py",
   "mimetype": "text/x-python",
   "name": "python",
   "nbconvert_exporter": "python",
   "pygments_lexer": "ipython3",
   "version": "3.12.3"
  }
 },
 "nbformat": 4,
 "nbformat_minor": 5
}
