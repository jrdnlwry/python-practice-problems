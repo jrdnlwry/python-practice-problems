{
 "cells": [
  {
   "cell_type": "markdown",
   "id": "446ff31e-9459-4ddc-b384-e129f3429de5",
   "metadata": {},
   "source": [
    "## Transformation Matrix from Basis B to C\n",
    "\n",
    "Given basis vectors in two different bases $B$ and $C$ for $R^3$, write a Python function to compute the transformation matrix $P$ from basis $B$ to $C$.\n",
    "\n",
    "#### Understanding Transformation MAtrices\n",
    "\n",
    "A transformation matrix allows us to convert the coordinates of a vector in one basis to coordinates in another basis.\n",
    "\n",
    "For bases (B) and (C) of a vector space, the transformation matrix (P) from (B) to (C) is calculated as follows:\n",
    "\n",
    "**Steps to Calculate the Transformation Matrix**\n",
    "\n",
    "1. Inverse of Basis (C): First, find the inverse of the matrix representing basis (C), $C^{-1}$\n",
    "2. Matrix Multiplication (dot product): Multiply ($C^{-1}$) by the matrix of basis ($B$).\n",
    "\n",
    "The result is the transformation matrix:\n",
    "\n",
    "$P=C^{-1}B$"
   ]
  },
  {
   "cell_type": "code",
   "execution_count": 19,
   "id": "772f7d65-6cc5-4449-856f-dc036ad3af94",
   "metadata": {},
   "outputs": [],
   "source": [
    "import numpy as np\n",
    "from numpy.linalg import inv"
   ]
  },
  {
   "cell_type": "code",
   "execution_count": 20,
   "id": "52d19ad7-737c-4783-99fa-5532148744ca",
   "metadata": {},
   "outputs": [],
   "source": [
    "def transform_basis(B: list[list[int]], C: list[list[int]]) -> list[list[float]]:\n",
    "    B = np.array(B)\n",
    "    C = np.array(C)\n",
    "    # find the inverse of C denoted as C^-1\n",
    "    Cinv = inv(C)\n",
    "    # apply matrix multiplication\n",
    "    P = np.dot(Cinv, B)\n",
    "    \n",
    "    return P"
   ]
  },
  {
   "cell_type": "code",
   "execution_count": 8,
   "id": "53600e37-4b3b-4d84-a3ec-15bb65ad0c84",
   "metadata": {},
   "outputs": [],
   "source": [
    "# Test Cases\n",
    "\n",
    "B = [[1, 0, 0], \n",
    "     [0, 1, 0], \n",
    "     [0, 0, 1]]\n",
    "\n",
    "C = [[1, 2.3, 3], \n",
    "     [4.4, 25, 6], \n",
    "     [7.4, 8, 9]]"
   ]
  },
  {
   "cell_type": "code",
   "execution_count": 21,
   "id": "8d754ab9-3dd8-4ad6-a350-39f173a02050",
   "metadata": {},
   "outputs": [
    {
     "data": {
      "text/plain": [
       "array([[-0.67722681, -0.01262626,  0.23415978],\n",
       "       [-0.01836547,  0.05050505, -0.02754821],\n",
       "       [ 0.5731558 , -0.03451178, -0.05693297]])"
      ]
     },
     "execution_count": 21,
     "metadata": {},
     "output_type": "execute_result"
    }
   ],
   "source": [
    "transform_basis(B, C)"
   ]
  }
 ],
 "metadata": {
  "kernelspec": {
   "display_name": "Python 3 (ipykernel)",
   "language": "python",
   "name": "python3"
  },
  "language_info": {
   "codemirror_mode": {
    "name": "ipython",
    "version": 3
   },
   "file_extension": ".py",
   "mimetype": "text/x-python",
   "name": "python",
   "nbconvert_exporter": "python",
   "pygments_lexer": "ipython3",
   "version": "3.12.3"
  }
 },
 "nbformat": 4,
 "nbformat_minor": 5
}
