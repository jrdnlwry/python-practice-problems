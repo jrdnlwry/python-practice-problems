{
 "cells": [
  {
   "cell_type": "markdown",
   "id": "54553f59-6691-44a3-966a-65406d778738",
   "metadata": {},
   "source": [
    "## Calculate Mean by Row or Column\n",
    "\n",
    "Write a Python function that calculates the mean of a matrix either by row or by column, based on a given mode. The function should take a matrix (list of lists) and a mode ('row' or 'column') as input and return a list of means according to the specified mode."
   ]
  },
  {
   "cell_type": "code",
   "execution_count": 1,
   "id": "fbfd619d-4248-4e52-a373-c0e01722a753",
   "metadata": {},
   "outputs": [],
   "source": [
    "import numpy as np"
   ]
  },
  {
   "cell_type": "code",
   "execution_count": 13,
   "id": "9b63f259-230e-4ecb-a00d-c13783987769",
   "metadata": {},
   "outputs": [],
   "source": [
    "A = [[1, 2, 3], [4, 5, 6], [7, 8, 9]]\n",
    "\n",
    "mode = 'column'"
   ]
  },
  {
   "cell_type": "code",
   "execution_count": 15,
   "id": "48a7f8ad-cd82-49a2-a18a-fbfdb628a8fc",
   "metadata": {},
   "outputs": [],
   "source": [
    "def calculate_matrix_mean(matrix: list[list[float]], mode: str) -> list[float]:\n",
    "\n",
    "    # initialize an empty variable to hold the mode -- will use for the axis\n",
    "    axis = None\n",
    "    # convert the matrix into a numpy array\n",
    "    A = np.array(matrix)\n",
    "    if mode == \"column\":\n",
    "        axis = 0\n",
    "    elif mode == \"row\":\n",
    "        axis = 1\n",
    "    else:\n",
    "        None\n",
    "    means = np.mean(A, axis=axis)\n",
    "    #display(means)\n",
    "    \n",
    "    # should return means\n",
    "    return means"
   ]
  },
  {
   "cell_type": "code",
   "execution_count": 16,
   "id": "7fcb7c9e-9b53-46c5-8a72-2727b1b2ed5c",
   "metadata": {},
   "outputs": [
    {
     "data": {
      "text/plain": [
       "array([4., 5., 6.])"
      ]
     },
     "metadata": {},
     "output_type": "display_data"
    }
   ],
   "source": [
    "calculate_matrix_mean(A, mode)"
   ]
  }
 ],
 "metadata": {
  "kernelspec": {
   "display_name": "Python 3 (ipykernel)",
   "language": "python",
   "name": "python3"
  },
  "language_info": {
   "codemirror_mode": {
    "name": "ipython",
    "version": 3
   },
   "file_extension": ".py",
   "mimetype": "text/x-python",
   "name": "python",
   "nbconvert_exporter": "python",
   "pygments_lexer": "ipython3",
   "version": "3.12.3"
  }
 },
 "nbformat": 4,
 "nbformat_minor": 5
}
