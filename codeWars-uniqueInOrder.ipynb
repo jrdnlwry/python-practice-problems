{
 "cells": [
  {
   "cell_type": "code",
   "execution_count": 15,
   "id": "2475b147-5dd5-4311-a037-3330473957c9",
   "metadata": {},
   "outputs": [
    {
     "data": {
      "text/plain": [
       "['A']"
      ]
     },
     "metadata": {},
     "output_type": "display_data"
    }
   ],
   "source": [
    "# GOAL\n",
    "    # implement the function unique_in_order which takes as an argument a sequence and returns a list of times without any elements with the same value next to each other.\n",
    "    # And preserves the original order of elements\n",
    "\n",
    "# INPUT\n",
    "    # a string of letters\n",
    "# OUTPUT\n",
    "    # List: of original elements\n",
    "\t\n",
    "# STRATEGY\n",
    "\"\"\"\n",
    "    Initialize an empty list element\n",
    "    For each item in Input::\n",
    "        if the item is not in the Nth posiiton in ReturnElem List\n",
    "        apppend it to the ReturnList\n",
    "\n",
    "    NOTE: Nth position refers to the last element in a list\n",
    "    - The function should be able to accept any iterable and loop through\n",
    "\"\"\"\n",
    "# inputStr = 'ABBCcAD'\n",
    "inputStr = ['A']\n",
    "returnElem = []\n",
    "\n",
    "for i in inputStr:\n",
    "    try:\n",
    "        if i != returnElem[len(returnElem)-1]:  # taking the length \n",
    "            returnElem.append(i)\n",
    "    except IndexError: # potentially indicates we have just started looping through the list\n",
    "        returnElem.append(i)\n",
    "\n",
    "display(returnElem)"
   ]
  },
  {
   "cell_type": "code",
   "execution_count": 3,
   "id": "bf280dd9-c8c5-4fdc-b1a6-a487e9d16831",
   "metadata": {},
   "outputs": [
    {
     "data": {
      "text/plain": [
       "4"
      ]
     },
     "execution_count": 3,
     "metadata": {},
     "output_type": "execute_result"
    }
   ],
   "source": [
    "lst = [1,2,3,4]\n",
    "\n",
    "lst[len(lst)-1]"
   ]
  },
  {
   "cell_type": "code",
   "execution_count": 20,
   "id": "2a688c4c-c57f-4244-9e71-9fed6820d8a8",
   "metadata": {},
   "outputs": [],
   "source": [
    "lstr = [None] # initialize with nothing inside rather than a blank list\n",
    "\n",
    "lstr[-1] # this will always be the last index and will avoid the issue of aribtrary try/except statement and cut down on code"
   ]
  },
  {
   "cell_type": "markdown",
   "id": "0995bda9-5f3d-4052-bfed-da8e2daa9921",
   "metadata": {},
   "source": [
    "### Different approaches to the same problem"
   ]
  },
  {
   "cell_type": "code",
   "execution_count": 22,
   "id": "75ad64fd-04e7-4109-b9e4-0c9e864914ed",
   "metadata": {},
   "outputs": [],
   "source": [
    "\"\"\"\n",
    "This works by setting the initial return list to none\n",
    "    -- this avoids the index error when trying to index the last element\n",
    "    -- additionally result[-1] directly accesses the last element rather than using the len function\n",
    "\"\"\"\n",
    "\n",
    "def uniqueOrder(iterable):\n",
    "    result = [None]\n",
    "\n",
    "    for item in iterable:\n",
    "        if item != result[-1]:\n",
    "            result.append(item)\n",
    "\n",
    "    return result[1:]"
   ]
  },
  {
   "cell_type": "code",
   "execution_count": 23,
   "id": "0ea706e1-1c56-4735-adb7-701747c64493",
   "metadata": {},
   "outputs": [
    {
     "data": {
      "text/plain": [
       "['A', 'B', 'C', 'D', 'A', 'B']"
      ]
     },
     "execution_count": 23,
     "metadata": {},
     "output_type": "execute_result"
    }
   ],
   "source": [
    "uniqueOrder('AAAABBBCCDAABBB')"
   ]
  }
 ],
 "metadata": {
  "kernelspec": {
   "display_name": "Python 3 (ipykernel)",
   "language": "python",
   "name": "python3"
  },
  "language_info": {
   "codemirror_mode": {
    "name": "ipython",
    "version": 3
   },
   "file_extension": ".py",
   "mimetype": "text/x-python",
   "name": "python",
   "nbconvert_exporter": "python",
   "pygments_lexer": "ipython3",
   "version": "3.12.3"
  }
 },
 "nbformat": 4,
 "nbformat_minor": 5
}
