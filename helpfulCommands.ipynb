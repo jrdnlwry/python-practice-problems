{
 "cells": [
  {
   "cell_type": "code",
   "execution_count": 1,
   "id": "7d03898f-740a-462f-bd60-fd5ad96079db",
   "metadata": {},
   "outputs": [
    {
     "name": "stdout",
     "output_type": "stream",
     "text": [
      "Help on built-in function len in module builtins:\n",
      "\n",
      "len(obj, /)\n",
      "    Return the number of items in a container.\n",
      "\n"
     ]
    }
   ],
   "source": [
    "# built in help function that can access information and print results -- similar to R\n",
    "help(len)"
   ]
  },
  {
   "cell_type": "code",
   "execution_count": 2,
   "id": "80451b43-37c9-4c0a-a3b2-7c7aede85b8b",
   "metadata": {},
   "outputs": [
    {
     "data": {
      "text/plain": [
       "\u001b[1;31mSignature:\u001b[0m \u001b[0mlen\u001b[0m\u001b[1;33m(\u001b[0m\u001b[0mobj\u001b[0m\u001b[1;33m,\u001b[0m \u001b[1;33m/\u001b[0m\u001b[1;33m)\u001b[0m\u001b[1;33m\u001b[0m\u001b[1;33m\u001b[0m\u001b[0m\n",
       "\u001b[1;31mDocstring:\u001b[0m Return the number of items in a container.\n",
       "\u001b[1;31mType:\u001b[0m      builtin_function_or_method"
      ]
     },
     "metadata": {},
     "output_type": "display_data"
    }
   ],
   "source": [
    "len?"
   ]
  },
  {
   "cell_type": "code",
   "execution_count": 3,
   "id": "ada3a1d7-b5c5-4ef4-8e96-c1a10db4d510",
   "metadata": {},
   "outputs": [
    {
     "data": {
      "text/plain": [
       "\u001b[1;31mSignature:\u001b[0m \u001b[0mL\u001b[0m\u001b[1;33m.\u001b[0m\u001b[0minsert\u001b[0m\u001b[1;33m(\u001b[0m\u001b[0mindex\u001b[0m\u001b[1;33m,\u001b[0m \u001b[0mobject\u001b[0m\u001b[1;33m,\u001b[0m \u001b[1;33m/\u001b[0m\u001b[1;33m)\u001b[0m\u001b[1;33m\u001b[0m\u001b[1;33m\u001b[0m\u001b[0m\n",
       "\u001b[1;31mDocstring:\u001b[0m Insert object before index.\n",
       "\u001b[1;31mType:\u001b[0m      builtin_function_or_method"
      ]
     },
     "metadata": {},
     "output_type": "display_data"
    }
   ],
   "source": [
    "# this notation also works for object methods\n",
    "L = [1, 2, 3]\n",
    "L.insert?"
   ]
  },
  {
   "cell_type": "code",
   "execution_count": 5,
   "id": "1c5a2200-a9a1-4486-af55-52ebafe0dc69",
   "metadata": {},
   "outputs": [
    {
     "data": {
      "text/plain": [
       "\u001b[1;31mType:\u001b[0m        list\n",
       "\u001b[1;31mString form:\u001b[0m [1, 2, 3]\n",
       "\u001b[1;31mLength:\u001b[0m      3\n",
       "\u001b[1;31mDocstring:\u001b[0m  \n",
       "Built-in mutable sequence.\n",
       "\n",
       "If no argument is given, the constructor creates a new empty list.\n",
       "The argument must be an iterable if specified."
      ]
     },
     "metadata": {},
     "output_type": "display_data"
    }
   ],
   "source": [
    "# this also works on objects themselves - with the documentation from their type\n",
    "L?"
   ]
  },
  {
   "cell_type": "code",
   "execution_count": 6,
   "id": "c876409a-e6a5-4eb7-814e-53d67f9961fa",
   "metadata": {},
   "outputs": [],
   "source": [
    "# this also works for functions or other objects I might create myself\n",
    "def square(a):\n",
    "    \"\"\"Return the square of a.\"\"\"\n",
    "    return a ** 2"
   ]
  },
  {
   "cell_type": "code",
   "execution_count": 10,
   "id": "16a111f0-bc5d-4f0c-a912-7d6f4753defa",
   "metadata": {},
   "outputs": [
    {
     "data": {
      "text/plain": [
       "\u001b[1;31mSignature:\u001b[0m \u001b[0msquare\u001b[0m\u001b[1;33m(\u001b[0m\u001b[0ma\u001b[0m\u001b[1;33m)\u001b[0m\u001b[1;33m\u001b[0m\u001b[1;33m\u001b[0m\u001b[0m\n",
       "\u001b[1;31mDocstring:\u001b[0m Return the square of a.\n",
       "\u001b[1;31mFile:\u001b[0m      c:\\users\\tatel\\appdata\\local\\temp\\ipykernel_27328\\661611104.py\n",
       "\u001b[1;31mType:\u001b[0m      function"
      ]
     },
     "metadata": {},
     "output_type": "display_data"
    }
   ],
   "source": [
    "square?"
   ]
  },
  {
   "cell_type": "code",
   "execution_count": 11,
   "id": "ec836dd4-7906-4976-b03d-f8ddce91520f",
   "metadata": {},
   "outputs": [
    {
     "data": {
      "text/plain": [
       "\u001b[1;31mSignature:\u001b[0m \u001b[0msquare\u001b[0m\u001b[1;33m(\u001b[0m\u001b[0ma\u001b[0m\u001b[1;33m)\u001b[0m\u001b[1;33m\u001b[0m\u001b[1;33m\u001b[0m\u001b[0m\n",
       "\u001b[1;31mSource:\u001b[0m   \n",
       "\u001b[1;32mdef\u001b[0m \u001b[0msquare\u001b[0m\u001b[1;33m(\u001b[0m\u001b[0ma\u001b[0m\u001b[1;33m)\u001b[0m\u001b[1;33m:\u001b[0m\u001b[1;33m\n",
       "\u001b[0m    \u001b[1;34m\"\"\"Return the square of a.\"\"\"\u001b[0m\u001b[1;33m\n",
       "\u001b[0m    \u001b[1;32mreturn\u001b[0m \u001b[0ma\u001b[0m \u001b[1;33m**\u001b[0m \u001b[1;36m2\u001b[0m\u001b[1;33m\u001b[0m\u001b[1;33m\u001b[0m\u001b[0m\n",
       "\u001b[1;31mFile:\u001b[0m      c:\\users\\tatel\\appdata\\local\\temp\\ipykernel_27328\\661611104.py\n",
       "\u001b[1;31mType:\u001b[0m      function"
      ]
     },
     "metadata": {},
     "output_type": "display_data"
    }
   ],
   "source": [
    "\"\"\"\n",
    "Another level of insight can be gained by reading the source code of the object you're curious about by using -\n",
    "?? aka a double question mark on a function \n",
    "\"\"\"\n",
    "square??"
   ]
  },
  {
   "cell_type": "code",
   "execution_count": 13,
   "id": "c7eb7361-66bd-4cb1-affe-85c15bfa9a84",
   "metadata": {},
   "outputs": [
    {
     "data": {
      "text/plain": [
       "\u001b[1;31mSignature:\u001b[0m \u001b[0mlen\u001b[0m\u001b[1;33m(\u001b[0m\u001b[0mobj\u001b[0m\u001b[1;33m,\u001b[0m \u001b[1;33m/\u001b[0m\u001b[1;33m)\u001b[0m\u001b[1;33m\u001b[0m\u001b[1;33m\u001b[0m\u001b[0m\n",
       "\u001b[1;31mDocstring:\u001b[0m Return the number of items in a container.\n",
       "\u001b[1;31mType:\u001b[0m      builtin_function_or_method"
      ]
     },
     "metadata": {},
     "output_type": "display_data"
    }
   ],
   "source": [
    "len??"
   ]
  },
  {
   "cell_type": "code",
   "execution_count": null,
   "id": "16e598a1-bf65-40bd-b442-af28858b9702",
   "metadata": {},
   "outputs": [],
   "source": [
    "\"\"\"\n",
    "you'll notice that sometimes the ?? suffix doesn't display any source code: \n",
    "this is generally because the object in question is not implemented in Python, \n",
    "but in C or some other compiled extension language. If this is the case, \n",
    "the ?? suffix gives the same output as the ? suffix. \n",
    "You'll find this particularly with many of Python's built-in objects and types, for example len from above.\n",
    "\"\"\""
   ]
  },
  {
   "cell_type": "code",
   "execution_count": 16,
   "id": "b6eb335d-5641-49b3-ace0-18a97f9e01e9",
   "metadata": {},
   "outputs": [
    {
     "data": {
      "text/plain": [
       "'\\nOUTPUT: \\nL.append   L.copy     L.extend   L.insert   L.remove   L.sort     \\nL.clear    L.count    L.index    L.pop      L.reverse\\n'"
      ]
     },
     "execution_count": 16,
     "metadata": {},
     "output_type": "execute_result"
    }
   ],
   "source": [
    "# you can see all of the available attributes of an object by typing the name of the object\n",
    "# and then \".\" followed by clicking <TAB> (on the keyboard)\n",
    "L.\n",
    "\"\"\"\n",
    "OUTPUT: \n",
    "L.append   L.copy     L.extend   L.insert   L.remove   L.sort     \n",
    "L.clear    L.count    L.index    L.pop      L.reverse\n",
    "\"\"\""
   ]
  },
  {
   "cell_type": "code",
   "execution_count": null,
   "id": "cdbb43ef-293e-4f00-9249-f1bd63d71ee9",
   "metadata": {},
   "outputs": [],
   "source": [
    "# Tab completion when importing objects from packages\n",
    "# same as above - you can just hit tab to autocomplete\n",
    "from itertools import \n",
    "\n",
    "\"\"\"\n",
    "OUTPUT:\n",
    "combinations                   compress\n",
    "combinations_with_replacement  count\n",
    "\"\"\""
   ]
  },
  {
   "cell_type": "code",
   "execution_count": null,
   "id": "ffd70f54-f362-497f-8fff-6eb0dc21c0e9",
   "metadata": {},
   "outputs": [],
   "source": [
    "# Beyond tab completion: wildcard match\n",
    "\"\"\"\n",
    "Tab completion is useful if you know the first few characters of the object or attribute you're looking for, \n",
    "but is little help if you'd like to match characters at the middle or end of the word. \n",
    "For this use-case, IPython provides a means of wildcard matching for names using the * character.\n",
    "\"\"\"\n",
    "*Warning?"
   ]
  },
  {
   "cell_type": "markdown",
   "id": "a6e92951-d2f1-45f6-ad12-cd8eaaa74152",
   "metadata": {},
   "source": [
    "str.*find*?\n",
    "\"\"\"\n",
    "this type of flexible wildcard search can be very useful for finding a particular command when getting to know a new package\n",
    "\"\"\""
   ]
  },
  {
   "cell_type": "code",
   "execution_count": null,
   "id": "679b14c5-ce92-4281-89c4-5d06e52a6be8",
   "metadata": {},
   "outputs": [],
   "source": [
    "## IPython Magic Commands ##\n",
    "\"\"\"\n",
    "Pasting Code Blocks: %paste and %cpaste\n",
    "\"\"\""
   ]
  },
  {
   "cell_type": "code",
   "execution_count": 28,
   "id": "b63dfff1-065c-453d-b1ff-1617c9feb059",
   "metadata": {},
   "outputs": [],
   "source": [
    "# without the %paste command\n",
    ">>> def donothing(x):\n",
    "...     return x"
   ]
  },
  {
   "cell_type": "code",
   "execution_count": 38,
   "id": "798cde2e-3284-4d9b-900f-2ac828c89fa1",
   "metadata": {},
   "outputs": [
    {
     "name": "stdout",
     "output_type": "stream",
     "text": [
      "1\n"
     ]
    }
   ],
   "source": [
    "# running code from an external file in a session\n",
    "\"\"\"\n",
    "Rather than running this code in a new window,\n",
    "it can be convenient to run it within your IPython session.\n",
    "This can be done with the %run magic.\n",
    "\"\"\"\n",
    "%run oddInt.py"
   ]
  },
  {
   "cell_type": "code",
   "execution_count": 39,
   "id": "6a128495-6db3-49ff-b49b-e1bb895250cd",
   "metadata": {},
   "outputs": [
    {
     "name": "stdout",
     "output_type": "stream",
     "text": [
      "319 ns ± 2.9 ns per loop (mean ± std. dev. of 7 runs, 1,000,000 loops each)\n"
     ]
    }
   ],
   "source": [
    "# Timing code executions\n",
    "%timeit L = [n ** 2 for n in range(10)]"
   ]
  },
  {
   "cell_type": "code",
   "execution_count": 41,
   "id": "4b03c575-d4d0-4a02-82e7-121691125f02",
   "metadata": {},
   "outputs": [
    {
     "name": "stderr",
     "output_type": "stream",
     "text": [
      "UsageError: Line magic function `%%timeit` not found.\n"
     ]
    }
   ],
   "source": [
    "\"\"\"\n",
    "The benefit of %timeit is that for short commands it will automatically perform multiple runs in order to attain more robust results. \n",
    "\"\"\"\n",
    "# Multi Line Statements\n",
    "\"\"\"\n",
    "For multi line statements, adding a second % sign will turn this into a cell magic that can handle multiple lines of input.\n",
    "\n",
    "For example, here's the equivalent construction with a for-loop:\n",
    "\"\"\""
   ]
  },
  {
   "cell_type": "code",
   "execution_count": 42,
   "id": "6b436c7d-1788-413f-8e2b-b4dc77106b7f",
   "metadata": {},
   "outputs": [
    {
     "name": "stdout",
     "output_type": "stream",
     "text": [
      "3.95 μs ± 33.3 ns per loop (mean ± std. dev. of 7 runs, 100,000 loops each)\n"
     ]
    }
   ],
   "source": [
    "%%timeit\n",
    "L = []\n",
    "for n in range(100):\n",
    "    L.append(n ** 2)"
   ]
  },
  {
   "cell_type": "markdown",
   "id": "3f375fba-3f04-4ffe-bc82-a911309436e9",
   "metadata": {},
   "source": [
    "### Type"
   ]
  },
  {
   "cell_type": "code",
   "execution_count": 2,
   "id": "301a4b0f-3ad3-4208-9af2-ecd372dd21b1",
   "metadata": {},
   "outputs": [
    {
     "name": "stdout",
     "output_type": "stream",
     "text": [
      "True\n"
     ]
    }
   ],
   "source": [
    "\"\"\"\n",
    "general practice\n",
    "\"\"\"\n",
    "x = 5\n",
    "print(type(x) is int)"
   ]
  },
  {
   "cell_type": "code",
   "execution_count": 3,
   "id": "1c9453fa-1103-4971-84ad-8093f3bf1676",
   "metadata": {},
   "outputs": [
    {
     "name": "stdout",
     "output_type": "stream",
     "text": [
      "<class 'int'> True\n"
     ]
    }
   ],
   "source": [
    "print(type(x), isinstance(x, int)) # preferred idiom"
   ]
  },
  {
   "cell_type": "code",
   "execution_count": 5,
   "id": "f4658c6f-89e4-4bed-be03-8a85be409c69",
   "metadata": {},
   "outputs": [
    {
     "name": "stdout",
     "output_type": "stream",
     "text": [
      "<class 'bool'> True\n"
     ]
    }
   ],
   "source": [
    "print(type(True), isinstance(True, int))\n",
    "\"\"\"\n",
    "the built-in bool type is actually a subclass of the built-in int type\n",
    "\"\"\""
   ]
  },
  {
   "cell_type": "code",
   "execution_count": 12,
   "id": "5b9990b4-5c49-41db-bb3c-d5c1dff1aa5f",
   "metadata": {},
   "outputs": [
    {
     "data": {
      "text/plain": [
       "\u001b[1;31mSignature:\u001b[0m \u001b[0misinstance\u001b[0m\u001b[1;33m(\u001b[0m\u001b[0mobj\u001b[0m\u001b[1;33m,\u001b[0m \u001b[0mclass_or_tuple\u001b[0m\u001b[1;33m,\u001b[0m \u001b[1;33m/\u001b[0m\u001b[1;33m)\u001b[0m\u001b[1;33m\u001b[0m\u001b[1;33m\u001b[0m\u001b[0m\n",
       "\u001b[1;31mDocstring:\u001b[0m\n",
       "Return whether an object is an instance of a class or of a subclass thereof.\n",
       "\n",
       "A tuple, as in ``isinstance(x, (A, B, ...))``, may be given as the target to\n",
       "check against. This is equivalent to ``isinstance(x, A) or isinstance(x, B)\n",
       "or ...`` etc.\n",
       "\u001b[1;31mType:\u001b[0m      builtin_function_or_method"
      ]
     },
     "metadata": {},
     "output_type": "display_data"
    }
   ],
   "source": [
    "?isinstance"
   ]
  },
  {
   "cell_type": "code",
   "execution_count": 13,
   "id": "c39f1714-7cbf-4afe-95e9-22b01fbe76f5",
   "metadata": {},
   "outputs": [
    {
     "name": "stdout",
     "output_type": "stream",
     "text": [
      "<class 'str'> True\n"
     ]
    }
   ],
   "source": [
    "print(type('5'), isinstance('f', str))"
   ]
  },
  {
   "cell_type": "code",
   "execution_count": 17,
   "id": "3776a627-ece7-4dd4-b216-87efd9764a7a",
   "metadata": {},
   "outputs": [
    {
     "data": {
      "text/plain": [
       "True"
      ]
     },
     "execution_count": 17,
     "metadata": {},
     "output_type": "execute_result"
    }
   ],
   "source": [
    "# special test for floating-point values\n",
    "(5.0).is_integer()"
   ]
  },
  {
   "cell_type": "code",
   "execution_count": 24,
   "id": "81d0cd5f-fa23-426c-9c3f-11b95c3a9395",
   "metadata": {},
   "outputs": [
    {
     "name": "stdout",
     "output_type": "stream",
     "text": [
      "None : <class 'NoneType'>\n",
      "True False\n"
     ]
    }
   ],
   "source": [
    "\"\"\"\n",
    "None/None Type\n",
    "\"\"\"\n",
    "x = None\n",
    "print(x, \":\", type(x))\n",
    "print(x == None, x != None)"
   ]
  },
  {
   "cell_type": "code",
   "execution_count": 25,
   "id": "46459836-6655-4dec-8132-ef06828722dd",
   "metadata": {},
   "outputs": [
    {
     "name": "stdout",
     "output_type": "stream",
     "text": [
      "True False\n"
     ]
    }
   ],
   "source": [
    "print(x is None, x is not None)"
   ]
  },
  {
   "cell_type": "code",
   "execution_count": 28,
   "id": "c36c76ed-b8e8-4af7-9e58-9e6e11887b8f",
   "metadata": {},
   "outputs": [
    {
     "name": "stdout",
     "output_type": "stream",
     "text": [
      "(a) 81\n",
      "(b) 12157665459056928801\n",
      "(c) 70550791086553325712464271575934796216507949612787315762871223209262085551582934156579298529447134158154952334825355911866929793071824566694145084454535257027960285323760313192443283334088001\n"
     ]
    }
   ],
   "source": [
    "# Big integers by default: integers do not \"overflow\" as they do in most other languages\n",
    "print('(a)', 3**4)\n",
    "print('(b)', 3**40)\n",
    "print('(c)', 3**400)"
   ]
  },
  {
   "cell_type": "code",
   "execution_count": 29,
   "id": "77c4d8e7-aa40-433a-ba49-257ce9269206",
   "metadata": {},
   "outputs": [
    {
     "data": {
      "text/plain": [
       "<module 'math' (built-in)>"
      ]
     },
     "execution_count": 29,
     "metadata": {},
     "output_type": "execute_result"
    }
   ],
   "source": [
    "\"\"\"\n",
    "Math functions: For numerical values, many of the functions are available in the math module\n",
    "\"\"\"\n",
    "import math\n",
    "\n",
    "math"
   ]
  },
  {
   "cell_type": "markdown",
   "id": "6ccea905-4013-43d1-8fa2-5d6ba095d6c6",
   "metadata": {},
   "source": [
    "### Strings"
   ]
  },
  {
   "cell_type": "code",
   "execution_count": 30,
   "id": "f95f7444-7162-4afd-a2b2-9a414dbe95a5",
   "metadata": {},
   "outputs": [
    {
     "name": "stdout",
     "output_type": "stream",
     "text": [
      "message : <class 'str'>\n"
     ]
    }
   ],
   "source": [
    "\"\"\"\n",
    "Strings\n",
    "\"\"\"\n",
    "bottle = \"message\"\n",
    "print(bottle, \":\", type(bottle))"
   ]
  },
  {
   "cell_type": "code",
   "execution_count": 32,
   "id": "904db44c-a117-4d7a-9a4d-4202de4e3b45",
   "metadata": {},
   "outputs": [
    {
     "data": {
      "text/plain": [
       "'message message'"
      ]
     },
     "execution_count": 32,
     "metadata": {},
     "output_type": "execute_result"
    }
   ],
   "source": [
    "# concatenation of the strings\n",
    "bottle + \" \" + bottle"
   ]
  },
  {
   "cell_type": "code",
   "execution_count": 37,
   "id": "42245c20-6d93-48bf-a83d-afe576ca6543",
   "metadata": {},
   "outputs": [
    {
     "name": "stdout",
     "output_type": "stream",
     "text": [
      "|'messagemessagemessagemessagemessagemessage'| == 42.\n"
     ]
    }
   ],
   "source": [
    "sixpack = bottle * 6\n",
    "print(\"|'{s}'| == {n}.\".format(s=sixpack, n=len(sixpack))) # print the string and its length"
   ]
  },
  {
   "cell_type": "code",
   "execution_count": 38,
   "id": "b32e6993-106f-4353-ba0f-7fc372f137a7",
   "metadata": {},
   "outputs": [
    {
     "data": {
      "text/plain": [
       "'MESSAGE'"
      ]
     },
     "execution_count": 38,
     "metadata": {},
     "output_type": "execute_result"
    }
   ],
   "source": [
    "bottle.upper() # upper case the string"
   ]
  },
  {
   "cell_type": "markdown",
   "id": "7c85b7c8-9f4d-4923-b0b4-75629aac42c3",
   "metadata": {},
   "source": [
    "Indexing Strings"
   ]
  },
  {
   "cell_type": "code",
   "execution_count": 42,
   "id": "74444dca-17b4-46ee-8426-5acb634923a9",
   "metadata": {},
   "outputs": [
    {
     "name": "stdout",
     "output_type": "stream",
     "text": [
      "|message| == 7\n",
      "0: m\n",
      "1: e\n",
      "2: s\n",
      "3: s\n",
      "4: a\n",
      "5: g\n",
      "6: e\n"
     ]
    }
   ],
   "source": [
    "print(f'|{bottle}| == {len(bottle)}')\n",
    "print('0:', bottle[0])\n",
    "print('1:', bottle[1])\n",
    "print('2:', bottle[2])\n",
    "print('3:', bottle[3])\n",
    "print('4:', bottle[4])\n",
    "print('5:', bottle[5])\n",
    "print('6:', bottle[6])\n",
    "# print('7:', bottle[7]) <-- out-of-range"
   ]
  },
  {
   "cell_type": "markdown",
   "id": "f61a595a-087c-4b01-a7dd-3108b6494879",
   "metadata": {},
   "source": [
    "**Slices.** Let $0 \\leq a < b$. Then $a:b$ is a _slice_ that specifies the right-open interval, $[a, b)$."
   ]
  },
  {
   "cell_type": "code",
   "execution_count": 45,
   "id": "06fce933-916a-4e43-a74c-6564dd2c3a8d",
   "metadata": {},
   "outputs": [
    {
     "name": "stdout",
     "output_type": "stream",
     "text": [
      "'sa'\n",
      "''\n"
     ]
    }
   ],
   "source": [
    "print(\"'{}'\".format(bottle[3:5]))\n",
    "print(\"'{}'\".format(bottle[5:3])) # when you use slicing with a start index greater than the end index,\n",
    "                                  # the result is an empty string - or an empty list"
   ]
  },
  {
   "cell_type": "markdown",
   "id": "3e3fb70a-3fe2-4bf5-bef3-70c178459921",
   "metadata": {},
   "source": [
    "If $a$ (or $b$) is negative, then it is replaced with $n+a$ (or $n+b$), where $n$ is the length of the string. In other words, negative positions are interpreted as \"counting from the end.\""
   ]
  },
  {
   "cell_type": "code",
   "execution_count": 50,
   "id": "48faf07b-1ac0-48e4-bfe4-ed7c17c968c1",
   "metadata": {},
   "outputs": [
    {
     "data": {
      "text/plain": [
       "7"
      ]
     },
     "execution_count": 50,
     "metadata": {},
     "output_type": "execute_result"
    }
   ],
   "source": [
    " len(bottle)"
   ]
  },
  {
   "cell_type": "code",
   "execution_count": 52,
   "id": "8731634e-747b-4c7d-97c4-7746a8568944",
   "metadata": {},
   "outputs": [
    {
     "name": "stdout",
     "output_type": "stream",
     "text": [
      "''\n",
      "'mess'\n",
      "'mess'\n"
     ]
    }
   ],
   "source": [
    "print(\"'{}'\".format(bottle[-3:-5])) # empty because the start index is greater\n",
    "print(\"'{}'\".format(bottle[-len(bottle):-3])) # result in the same output\n",
    "print(\"'{}'\".format(bottle[-7:-3]))"
   ]
  },
  {
   "cell_type": "markdown",
   "id": "329282b7-9216-4356-9985-af45126a7e17",
   "metadata": {},
   "source": [
    "A slice may have a third parameter, $a:b:s$, where $s$ denotes the _step size_. Again, assume $0 \\leq a < b$ and suppose $s > 0$. Then the 3-parameter slice $a:b:s$ expands into the sequence, $a, a+s, a+2s, \\ldots, a+(k-1)s$, where $k = \\left\\lceil\\frac{b-a}{s}\\right\\rceil$.\n",
    "\n",
    "_Defaults._ Omitting `a`, `b`, or `s` yields the defaults of `a=0`, `b=len(x)`, and `s=1`."
   ]
  },
  {
   "cell_type": "code",
   "execution_count": 64,
   "id": "1c4e3d2b-23ea-4cd8-95c4-b3643f6484b8",
   "metadata": {},
   "outputs": [
    {
     "name": "stdout",
     "output_type": "stream",
     "text": [
      "msae\n",
      "sae\n"
     ]
    }
   ],
   "source": [
    "print(bottle[0:7:2])\n",
    "print(bottle[2::2])"
   ]
  },
  {
   "cell_type": "markdown",
   "id": "89287759-2e94-45b2-b98e-41889654c65f",
   "metadata": {},
   "source": [
    "Right-open intervals allow simple splittings of intervals:"
   ]
  },
  {
   "cell_type": "code",
   "execution_count": 68,
   "id": "b9a3bd06-ab54-408e-ade4-94858865c7c3",
   "metadata": {},
   "outputs": [
    {
     "name": "stdout",
     "output_type": "stream",
     "text": [
      "mess age\n",
      "mess age\n",
      "mess age\n"
     ]
    }
   ],
   "source": [
    "\"\"\"\n",
    "These all return the same output\n",
    "\"\"\"\n",
    "print(bottle[:4], # up to (but excluding) 4, since intervals are right-open\n",
    "     bottle[4:])  # Resume at 4\n",
    "\n",
    "k = len(bottle) - 3 # Note: len(bottle) == 7, so this is the same as above\n",
    "print(bottle[:k], bottle[k:])\n",
    "\n",
    "k = -3 # Recall: a negative endpoint x becomes n+x\n",
    "print(bottle[:-3], bottle[-3:]) # shorthand"
   ]
  },
  {
   "cell_type": "markdown",
   "id": "6d3ccae3-b559-4ea4-9f3e-5cb8a2fec457",
   "metadata": {},
   "source": [
    "**Negative steps** ($s < 0$) reverse the direction. That is, if $s < 0$ then one cannot have a non-empty sequence unless $a > b$. The defaults for omitted $a$ and $b$ values change to $a=n-1$ and $b=-1$ (recall that the intervals are right-open)."
   ]
  },
  {
   "cell_type": "code",
   "execution_count": 70,
   "id": "711c8971-f383-43ff-bc2e-f7f0ab770b2e",
   "metadata": {},
   "outputs": [
    {
     "name": "stdout",
     "output_type": "stream",
     "text": [
      "egassem\n",
      "easm easm\n",
      "'message'\n",
      "'m'\n"
     ]
    }
   ],
   "source": [
    "print(bottle[::-1])                 # [::-1] reverses the string.\n",
    "print(bottle[::-2], bottle[6::-2])  # [::-2] reverses the string and skips every other character.\n",
    "print(\"'{}'\".format(bottle[0::1]))  # [start::1] (with start=0) reads the entire string from left to right.\n",
    "print(\"'{}'\".format(bottle[0::-1])) # [start::-1] can be counterintuitive if start is 0, \n",
    "                                    # since there’s nowhere “before” 0 to go, leaving you with just the single character at start."
   ]
  },
  {
   "cell_type": "markdown",
   "id": "9972ba0b-7856-4dea-addc-4dee9224eaef",
   "metadata": {},
   "source": [
    "_Aside:_ **Slices are objects!**"
   ]
  },
  {
   "cell_type": "code",
   "execution_count": 76,
   "id": "5980a373-8506-4f52-b5ee-7f8a2d4393e0",
   "metadata": {},
   "outputs": [
    {
     "data": {
      "text/plain": [
       "\u001b[1;31mInit signature:\u001b[0m \u001b[0mslice\u001b[0m\u001b[1;33m(\u001b[0m\u001b[0mself\u001b[0m\u001b[1;33m,\u001b[0m \u001b[1;33m/\u001b[0m\u001b[1;33m,\u001b[0m \u001b[1;33m*\u001b[0m\u001b[0margs\u001b[0m\u001b[1;33m,\u001b[0m \u001b[1;33m**\u001b[0m\u001b[0mkwargs\u001b[0m\u001b[1;33m)\u001b[0m\u001b[1;33m\u001b[0m\u001b[1;33m\u001b[0m\u001b[0m\n",
       "\u001b[1;31mDocstring:\u001b[0m     \n",
       "slice(stop)\n",
       "slice(start, stop[, step])\n",
       "\n",
       "Create a slice object.  This is used for extended slicing (e.g. a[0:10:2]).\n",
       "\u001b[1;31mType:\u001b[0m           type\n",
       "\u001b[1;31mSubclasses:\u001b[0m     "
      ]
     },
     "metadata": {},
     "output_type": "display_data"
    }
   ],
   "source": [
    "?slice"
   ]
  },
  {
   "cell_type": "code",
   "execution_count": 78,
   "id": "875d328b-b95d-442c-a59c-a64566410bb8",
   "metadata": {},
   "outputs": [
    {
     "name": "stdout",
     "output_type": "stream",
     "text": [
      "easm easm\n"
     ]
    }
   ],
   "source": [
    "ind = slice(6, None, -2)\n",
    "print(bottle[6::-2], bottle[ind])"
   ]
  },
  {
   "cell_type": "code",
   "execution_count": 88,
   "id": "0d7f4cb7-4305-4660-9eee-3fd3ec8b2019",
   "metadata": {},
   "outputs": [
    {
     "data": {
      "text/plain": [
       "'egassem'"
      ]
     },
     "execution_count": 88,
     "metadata": {},
     "output_type": "execute_result"
    }
   ],
   "source": [
    "#message\n",
    "# reverse the entire string\n",
    "bottle[::-1]"
   ]
  },
  {
   "cell_type": "markdown",
   "id": "29cd4c5b-f62d-45db-9a53-3ca5a2e12a46",
   "metadata": {},
   "source": [
    "## Booleans and bit manipulation\n",
    "\n",
    "Boolean variables can take on the values of `True` or `False`. The built-in boolean operations are `and`, `or`, and `not`."
   ]
  },
  {
   "cell_type": "code",
   "execution_count": 94,
   "id": "e1963d24-a88f-4532-8605-7f1ba9e2c646",
   "metadata": {},
   "outputs": [
    {
     "name": "stdout",
     "output_type": "stream",
     "text": [
      "False\n",
      "True\n",
      "True\n",
      "True\n"
     ]
    }
   ],
   "source": [
    "print(True and False)\n",
    "print(True and True)\n",
    "print(True or False)\n",
    "print(not False)"
   ]
  },
  {
   "cell_type": "markdown",
   "id": "3ed819a6-e0b5-485c-9de8-65327ed6899e",
   "metadata": {},
   "source": [
    "In addition to booleans, you can also perform bit-level manipulations on integers. The following operators perform logical operations bitwise between the corresponding bits of the operands.\n",
    "\n",
    "\n",
    "| Operator     | Name            | Description                                 |\n",
    "|--------------|-----------------|---------------------------------------------|\n",
    "| ``a & b``    | Bitwise AND     | Bits defined in both ``a`` and ``b``        |\n",
    "| <code>a &#124; b</code>| Bitwise OR      | Bits defined in ``a`` or ``b`` or both      |\n",
    "| ``a ^ b``    | Bitwise XOR     | Bits defined in ``a`` or ``b`` but not both |\n",
    "| ``a << b``   | Bit shift left  | Shift bits of ``a`` left by ``b`` units     |\n",
    "| ``a >> b``   | Bit shift right | Shift bits of ``a`` right by ``b`` units    |\n",
    "| ``~a``       | Bitwise NOT     | Bitwise negation of ``a``                          |"
   ]
  },
  {
   "cell_type": "markdown",
   "id": "2ddd2548-7c8d-48e6-a49c-00847705182d",
   "metadata": {},
   "source": [
    "First, some different ways to inspect the binary representations of integer values as strings (see also [`bin()`](https://docs.python.org/3/library/functions.html#bin) in the Python docs):"
   ]
  },
  {
   "cell_type": "code",
   "execution_count": 95,
   "id": "412f72f8-c3f4-46b6-b7bb-1096f20e5d63",
   "metadata": {},
   "outputs": [
    {
     "name": "stdout",
     "output_type": "stream",
     "text": [
      "0b101\n"
     ]
    }
   ],
   "source": [
    "print(bin(5))"
   ]
  }
 ],
 "metadata": {
  "kernelspec": {
   "display_name": "Python 3 (ipykernel)",
   "language": "python",
   "name": "python3"
  },
  "language_info": {
   "codemirror_mode": {
    "name": "ipython",
    "version": 3
   },
   "file_extension": ".py",
   "mimetype": "text/x-python",
   "name": "python",
   "nbconvert_exporter": "python",
   "pygments_lexer": "ipython3",
   "version": "3.12.3"
  }
 },
 "nbformat": 4,
 "nbformat_minor": 5
}
