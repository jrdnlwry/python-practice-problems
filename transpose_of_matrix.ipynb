{
 "cells": [
  {
   "cell_type": "code",
   "execution_count": null,
   "id": "6e947aac-2cf2-4219-a1ea-293970faf2e1",
   "metadata": {},
   "outputs": [],
   "source": [
    "# GOAL\n",
    "    # write a function that takes the transpose of a matrix\n",
    "\n",
    "# INPUT\n",
    "    # a = [[1,2,3],[4,5,6]]\n",
    "\n",
    "# OUTPUT\n",
    "    # [[1,4],[2,5],[3,6]]\n",
    "\t\n",
    "# STRATEGY\n",
    "\n",
    "\"\"\"\n",
    "Import and use Numpy to flip the rows and columns\n",
    "- convert the 2d array into a numpy 2d array\n",
    "\"\"\""
   ]
  },
  {
   "cell_type": "code",
   "execution_count": 12,
   "id": "8b57fe23-d98d-42b8-bab6-411d327ce556",
   "metadata": {},
   "outputs": [
    {
     "data": {
      "text/plain": [
       "[[1, 2, 3], [4, 5, 6]]"
      ]
     },
     "metadata": {},
     "output_type": "display_data"
    }
   ],
   "source": [
    "# establish the 2d array\n",
    "a = [[1,2,3],[4,5,6]]\n",
    "\n",
    "display(a)"
   ]
  },
  {
   "cell_type": "code",
   "execution_count": 10,
   "id": "68fff50e-956e-442b-a1ff-197a6011ea75",
   "metadata": {},
   "outputs": [],
   "source": [
    "def transpose_matrix(a: list[list[int|float]]) -> list[list[int|float]]:\n",
    "\timport numpy as np\n",
    "    # convert to a Numpy array\n",
    "\tA = np.array(a)\n",
    "    # return the transpose of the matrix\n",
    "\tb = A.T\n",
    "\treturn b"
   ]
  },
  {
   "cell_type": "code",
   "execution_count": 11,
   "id": "e066feaf-0c2d-4fad-bcb3-72411cfae985",
   "metadata": {},
   "outputs": [
    {
     "data": {
      "text/plain": [
       "array([[1, 4],\n",
       "       [2, 5],\n",
       "       [3, 6]])"
      ]
     },
     "execution_count": 11,
     "metadata": {},
     "output_type": "execute_result"
    }
   ],
   "source": [
    "transpose_matrix(a)"
   ]
  }
 ],
 "metadata": {
  "kernelspec": {
   "display_name": "Python 3 (ipykernel)",
   "language": "python",
   "name": "python3"
  },
  "language_info": {
   "codemirror_mode": {
    "name": "ipython",
    "version": 3
   },
   "file_extension": ".py",
   "mimetype": "text/x-python",
   "name": "python",
   "nbconvert_exporter": "python",
   "pygments_lexer": "ipython3",
   "version": "3.12.3"
  }
 },
 "nbformat": 4,
 "nbformat_minor": 5
}
