{
 "cells": [
  {
   "cell_type": "code",
   "execution_count": 28,
   "id": "198ad114-035a-417b-b9ec-1a5222621610",
   "metadata": {},
   "outputs": [
    {
     "data": {
      "text/plain": [
       "['Q',\n",
       " 'TFa',\n",
       " 'EITbe',\n",
       " 'WMkzqr',\n",
       " 'EFXTuiG',\n",
       " 'LrtumEXi',\n",
       " 'MqdG',\n",
       " 'B',\n",
       " 'Ejb',\n",
       " 'HeczsFV',\n",
       " 'U',\n",
       " 'CuZRGGvvoH',\n",
       " 'KWEwrRG',\n",
       " 'OalkdCkwn',\n",
       " 'QHouHNQ',\n",
       " 'Yac',\n",
       " 'KsYtZZsYgr',\n",
       " 'BE',\n",
       " 'FfAhgDIIVU',\n",
       " 'ULyrG',\n",
       " 'UIg',\n",
       " 'TIsCV',\n",
       " 'XmzSb',\n",
       " 'Y',\n",
       " 'EeTs',\n",
       " 'BEjgQCNUmr',\n",
       " 'ZYCgvhNcZ',\n",
       " 'CCN',\n",
       " 'QiUUNd',\n",
       " 'Gy',\n",
       " 'CzO',\n",
       " 'FV',\n",
       " 'BdjY',\n",
       " 'Kz',\n",
       " 'PslVwxo',\n",
       " 'QYpmSkm',\n",
       " 'AJkrP',\n",
       " 'I',\n",
       " 'OmYW',\n",
       " 'Jy',\n",
       " 'PVnOOqau',\n",
       " 'Sh',\n",
       " 'Mi',\n",
       " 'MOqaMpu',\n",
       " 'VUeyWBReY',\n",
       " 'YUt',\n",
       " 'BRGacqbPGR',\n",
       " 'E',\n",
       " 'V',\n",
       " 'FOGJ',\n",
       " 'VSARaXIF',\n",
       " 'AcnIMC',\n",
       " 'Yc',\n",
       " 'CKvIw',\n",
       " 'HErDjl']"
      ]
     },
     "metadata": {},
     "output_type": "display_data"
    }
   ],
   "source": [
    "# GOAL\n",
    "\t# Capitalize each word.\n",
    "\t# convert the first word in each string to uppercase\n",
    "\n",
    "# INPUT\n",
    "    # Str: string element of a sentence\n",
    "\n",
    "# OUTPUT\n",
    "    # Str: with the beginning of each word captialize\n",
    "\t\n",
    "# STRATEGY\n",
    "\"\"\"\n",
    "    break up the string element into a list, space delimited\n",
    "    For each word in the list identify the first word using indexing\n",
    "        capitalize the word and save it in the return list Element\n",
    "\n",
    "    join each individual word into a str element to return\n",
    "\"\"\"\n",
    "\n",
    "import copy\n",
    "\n",
    "returnElem = [] # try to use list comprehension first\n",
    "\n",
    "inputStr = \"q tFa EITbe wMkzqr EFXTuiG LrtumEXi mqdG b Ejb HeczsFV u CuZRGGvvoH KWEwrRG oalkdCkwn QHouHNQ yac KsYtZZsYgr bE FfAhgDIIVU uLyrG uIg tIsCV xmzSb Y eeTs bEjgQCNUmr ZYCgvhNcZ CCN QiUUNd gy czO fV bdjY kz pslVwxo QYpmSkm AJkrP I omYW jy PVnOOqau Sh mi MOqaMpu vUeyWBReY YUt BRGacqbPGR e V FOGJ VSARaXIF AcnIMC Yc cKvIw hErDjl\"\n",
    "\n",
    "for word in inputStr.split(\" \"):\n",
    "    returnStr = \"\"\n",
    "    # identify the first element\n",
    "    # captialize the first element\n",
    "    # save it to the returnStr\n",
    "    #display(word)\n",
    "    returnStr += word[0].upper()\n",
    "    # for the remaining words in the str\n",
    "    # save each one to the returnStr\n",
    "    # then append the entirety of the returnStr to the returnElem (our temp list)\n",
    "    for i in range(1, len(word)):\n",
    "        #print(word[i])\n",
    "        returnStr += word[i]\n",
    "\n",
    "    returnElem.append(returnStr)\n",
    "\n",
    "display(returnElem)"
   ]
  },
  {
   "cell_type": "code",
   "execution_count": 39,
   "id": "24409b01-bfd5-4c4f-9f27-10030c030316",
   "metadata": {},
   "outputs": [],
   "source": [
    "def to_jaden_case(string):\n",
    "    import copy\n",
    "    inputStr = copy.deepcopy(string)\n",
    "    returnElem = []\n",
    "\n",
    "    for word in inputStr.split(\" \"):\n",
    "        returnStr = \"\"\n",
    "        returnStr += word[0].upper()\n",
    "        for i in range(1, len(word)):\n",
    "            returnStr += word[i].lower()\n",
    "\n",
    "        returnElem.append(returnStr)\n",
    "    \n",
    "    return ' '.join(returnElem)"
   ]
  },
  {
   "cell_type": "code",
   "execution_count": 36,
   "id": "131f6930-1e60-4811-8ac6-c39d844184c3",
   "metadata": {},
   "outputs": [],
   "source": [
    "outputStr = to_jaden_case(\"q tFa EITbe wMkzqr EFXTuiG LrtumEXi mqdG b Ejb HeczsFV u CuZRGGvvoH KWEwrRG oalkdCkwn QHouHNQ yac KsYtZZsYgr bE FfAhgDIIVU uLyrG uIg tIsCV xmzSb Y eeTs bEjgQCNUmr ZYCgvhNcZ CCN QiUUNd gy czO fV bdjY kz pslVwxo QYpmSkm AJkrP I omYW jy PVnOOqau Sh mi MOqaMpu vUeyWBReY YUt BRGacqbPGR e V FOGJ VSARaXIF AcnIMC Yc cKvIw hErDjl\")"
   ]
  },
  {
   "cell_type": "code",
   "execution_count": 38,
   "id": "1f45e2dd-6a92-44e7-8682-5e3048f3f534",
   "metadata": {},
   "outputs": [
    {
     "data": {
      "text/plain": [
       "False"
      ]
     },
     "execution_count": 38,
     "metadata": {},
     "output_type": "execute_result"
    }
   ],
   "source": [
    "outputStr == \"Q TFa EITbe WMkzqr EFXTuiG LrtumEXi MqdG B Ejb HeczsFV U CuZRGGvvoH KWEwrRG OalkdCkwn QHouHNQ Yac KsYtZZsYgr BE FfAhgDIIVU ULyrG UIg TIsCV XmzSb Y EeTs BEjgQCNUmr ZYCgvhNcZ CCN QiUUNd Gy CzO FV BdjY Kz PslVwxo QYpmSkm AJkrP I OmYW Jy PVnOOqau Sh Mi MOqaMpu VUeyWBReY YUt BRGacqbPGR E V FOGJ VSARaXIF AcnIMC Yc CKvIw HErDjl' should equal 'Q Tfa Eitbe Wmkzqr Efxtuig Lrtumexi Mqdg B Ejb Heczsfv U Cuzrggvvoh Kwewrrg Oalkdckwn Qhouhnq Yac Ksytzzsygr Be Ffahgdiivu Ulyrg Uig Tiscv Xmzsb Y Eets Bejgqcnumr Zycgvhncz Ccn Qiuund Gy Czo Fv Bdjy Kz Pslvwxo Qypmskm Ajkrp I Omyw Jy Pvnooqau Sh Mi Moqampu Vueywbrey Yut Brgacqbpgr E V Fogj Vsaraxif Acnimc Yc Ckviw Herdjl\""
   ]
  },
  {
   "cell_type": "code",
   "execution_count": 40,
   "id": "e1e54822-fab2-4977-99ed-fc6822f4dec2",
   "metadata": {},
   "outputs": [
    {
     "data": {
      "text/plain": [
       "'Q Tfa Eitbe Wmkzqr Efxtuig Lrtumexi Mqdg B Ejb Heczsfv U Cuzrggvvoh Kwewrrg Oalkdckwn Qhouhnq Yac Ksytzzsygr Be Ffahgdiivu Ulyrg Uig Tiscv Xmzsb Y Eets Bejgqcnumr Zycgvhncz Ccn Qiuund Gy Czo Fv Bdjy Kz Pslvwxo Qypmskm Ajkrp I Omyw Jy Pvnooqau Sh Mi Moqampu Vueywbrey Yut Brgacqbpgr E V Fogj Vsaraxif Acnimc Yc Ckviw Herdjl'"
      ]
     },
     "metadata": {},
     "output_type": "display_data"
    }
   ],
   "source": [
    "display(outputStr)"
   ]
  }
 ],
 "metadata": {
  "kernelspec": {
   "display_name": "Python 3 (ipykernel)",
   "language": "python",
   "name": "python3"
  },
  "language_info": {
   "codemirror_mode": {
    "name": "ipython",
    "version": 3
   },
   "file_extension": ".py",
   "mimetype": "text/x-python",
   "name": "python",
   "nbconvert_exporter": "python",
   "pygments_lexer": "ipython3",
   "version": "3.12.3"
  }
 },
 "nbformat": 4,
 "nbformat_minor": 5
}
