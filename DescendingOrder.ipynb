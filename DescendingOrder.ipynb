{
 "cells": [
  {
   "cell_type": "markdown",
   "id": "a83ecc6e-5450-4d11-9f2d-0a88b6c8b8d4",
   "metadata": {},
   "source": [
    "# Descending Order\n",
    "\n",
    "Your task is to make a function that can take any non-negative integer as an argument and return it with its digits in descending order. Essentially, rearrange the digits to create the highest possible number."
   ]
  },
  {
   "cell_type": "markdown",
   "id": "17828574-530c-4ec5-80e7-5d57daa9fb10",
   "metadata": {},
   "source": [
    "**Test Cases**\n",
    "\n",
    "Input: 42145\n",
    "Output: 54421\n",
    "\n",
    "Input: 145263\n",
    "Output: 654321\n",
    "\n",
    "Input: 123456789\n",
    "Output: 987654321"
   ]
  },
  {
   "cell_type": "code",
   "execution_count": 38,
   "id": "233e2bac-d77c-413c-9884-cdaef3816aaa",
   "metadata": {},
   "outputs": [],
   "source": [
    "def descending_order(num):\n",
    "    numList = []\n",
    "    for n in str(num):\n",
    "        numList.append(n)\n",
    "        \n",
    "    sortedNum = sorted(numList, reverse=True)\n",
    "    returnInt = ''\n",
    "    for n in sortedNum:\n",
    "        returnInt += n\n",
    "        \n",
    "    return int(returnInt)"
   ]
  },
  {
   "cell_type": "code",
   "execution_count": 39,
   "id": "e8c0f8d7-072f-4bc3-a89f-e6e0abeef08a",
   "metadata": {},
   "outputs": [
    {
     "data": {
      "text/plain": [
       "987654321"
      ]
     },
     "execution_count": 39,
     "metadata": {},
     "output_type": "execute_result"
    }
   ],
   "source": [
    "num = 123456789\n",
    "descending_order(num)"
   ]
  }
 ],
 "metadata": {
  "kernelspec": {
   "display_name": "Python 3 (ipykernel)",
   "language": "python",
   "name": "python3"
  },
  "language_info": {
   "codemirror_mode": {
    "name": "ipython",
    "version": 3
   },
   "file_extension": ".py",
   "mimetype": "text/x-python",
   "name": "python",
   "nbconvert_exporter": "python",
   "pygments_lexer": "ipython3",
   "version": "3.12.3"
  }
 },
 "nbformat": 4,
 "nbformat_minor": 5
}
