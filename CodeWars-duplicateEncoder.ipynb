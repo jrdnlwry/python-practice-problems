{
 "cells": [
  {
   "cell_type": "code",
   "execution_count": 60,
   "id": "03e10505-dd4e-45e6-a2ee-3f5466f45b2c",
   "metadata": {},
   "outputs": [],
   "source": [
    "# GOAL\n",
    "    # convert a string to a new string where each character in the new string is \"(\" if that character appears only once in the original string\n",
    "    # or \")\" if that character appears more than once in the original string.\n",
    "    # Ignore capitalization when determing if a character is a duplicate\n",
    "# INPUT\n",
    "    # str: sentence // a string of words \n",
    "# OUTPUT\n",
    "    # str: encoding characters\n",
    "# STRATEGY\n",
    "\n",
    "\"\"\"\n",
    "Initialize a return string\n",
    "Lower case each character in the input string\n",
    "Use counter module to Count how many times each individual character occurs\n",
    "--- initialize Counter outside the for loop (it keeps getting overwritten)\n",
    "--- use f strings\n",
    "\n",
    "For each character in the input str\n",
    "    If it occurs a single time (reference CounterDict) replace the character with a single \"(\"\n",
    "    Otherwise replace it with \")\"\n",
    "\"\"\"\n",
    "\n",
    "def duplicate_encode(word):\n",
    "    #your code here\n",
    "    #your code here\n",
    "    import copy\n",
    "    import re\n",
    "    from collections import Counter\n",
    "    \n",
    "    strElem = copy.deepcopy(word)\n",
    "    strLower = strElem.lower()\n",
    "    countDict = Counter(strLower)\n",
    "    print(countDict)\n",
    "    strReturn = []\n",
    "    for i in strLower:\n",
    "        if countDict.get(i) <= 1:\n",
    "            #strLower = re.sub(f\"{i}\",\"(\",strLower)\n",
    "            strReturn.append(\"(\")\n",
    "            #strReturn = strLower.replace(f\"{i}\",\"(\")\n",
    "        else:\n",
    "            #strLower = re.sub(f\"{i}\",\")\",strLower)\n",
    "            #strReturn = strLower.replace(f\"{i}\",\")\")\n",
    "            strReturn.append(\")\")\n",
    "    \n",
    "    return \"\".join(strReturn)"
   ]
  },
  {
   "cell_type": "code",
   "execution_count": 61,
   "id": "1c064092-28f9-407e-8295-a3c61e35bb32",
   "metadata": {},
   "outputs": [
    {
     "name": "stdout",
     "output_type": "stream",
     "text": [
      "Counter({'w': 2, 'p': 1, 'k': 1, ')': 1, 'c': 1, 'm': 1, '!': 1, '@': 1, ' ': 1, 'v': 1})\n"
     ]
    },
    {
     "data": {
      "text/plain": [
       "'()()((((((('"
      ]
     },
     "execution_count": 61,
     "metadata": {},
     "output_type": "execute_result"
    }
   ],
   "source": [
    "duplicate_encode(\"PwKw)cM!@ v\")"
   ]
  },
  {
   "cell_type": "code",
   "execution_count": null,
   "id": "50ab9ed3-0527-4f22-9234-bbd4f5ead92d",
   "metadata": {},
   "outputs": [],
   "source": [
    "def duplicate_encode(word):\n",
    "    #your code here\n",
    "    import copy\n",
    "    import re\n",
    "    from collections import Counter\n",
    "    \n",
    "\n",
    "    # inputStr = \"(( @\"\n",
    "    strElem = copy.deepcopy(word)\n",
    "    \n",
    "    strLower = strElem.lower()\n",
    "    #display(strLower)\n",
    "    \n",
    "    #print(Counter(strLower))\n",
    "    \n",
    "    for i in strLower:\n",
    "        #print(i)\n",
    "        #print(i,Counter(strLower).get(i))\n",
    "        if Counter(strLower).get(i) == 1:\n",
    "            strReturn = re.sub(r\"{i}\",\"(\",strLower)\n",
    "        else:\n",
    "            strReturn = re.sub(r\"{i}\",\")\",strLower)\n",
    "        \n",
    "    return strReturn"
   ]
  }
 ],
 "metadata": {
  "kernelspec": {
   "display_name": "Python 3 (ipykernel)",
   "language": "python",
   "name": "python3"
  },
  "language_info": {
   "codemirror_mode": {
    "name": "ipython",
    "version": 3
   },
   "file_extension": ".py",
   "mimetype": "text/x-python",
   "name": "python",
   "nbconvert_exporter": "python",
   "pygments_lexer": "ipython3",
   "version": "3.12.3"
  }
 },
 "nbformat": 4,
 "nbformat_minor": 5
}
