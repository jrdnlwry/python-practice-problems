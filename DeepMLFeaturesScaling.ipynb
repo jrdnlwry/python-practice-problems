{
 "cells": [
  {
   "cell_type": "markdown",
   "id": "7b5b189d-51f9-4e0e-8296-ae01f74e712a",
   "metadata": {},
   "source": [
    "#### Feature Scaling Implementation"
   ]
  },
  {
   "cell_type": "markdown",
   "id": "1aa3fce0-4327-4375-ae11-5932bf46c7d8",
   "metadata": {},
   "source": [
    "Write a Python function that performs feature scaling on a dataset using both standardization and min-max normalization.\n",
    "\n",
    "The function should take a 2D NumPy array as input, where each row represents a data sample and each column represents a feature.\n",
    "\n",
    "It should return two 2D NumPy arrays: one scaled by standardization and one by min-max normalization. Make sure all results are rounded to the nearest 4th decimal."
   ]
  },
  {
   "cell_type": "markdown",
   "id": "314a3888-9c85-4ca1-b637-4d14b8fc2533",
   "metadata": {},
   "source": [
    "**Normalize Data**\n",
    "\n",
    "$z=\\frac{x-min(x)}{max(x)-min(x)}$"
   ]
  },
  {
   "cell_type": "markdown",
   "id": "26a35fb9-a300-4f84-80a8-2c83ad7d6a2a",
   "metadata": {},
   "source": [
    "**Standardization**\n",
    "\n",
    "$Z=(X-\\mu)/\\sigma$"
   ]
  },
  {
   "cell_type": "code",
   "execution_count": 2,
   "id": "bc16b416-b46b-4007-b17c-ca5b6ac7fbde",
   "metadata": {},
   "outputs": [],
   "source": [
    "import numpy as np\n",
    "\n",
    "data = np.array([[1, 2], [3, 4], [5, 6]])"
   ]
  },
  {
   "cell_type": "code",
   "execution_count": 33,
   "id": "36f2d3ad-053d-4d7d-87f2-d0c7b12a2a7e",
   "metadata": {},
   "outputs": [
    {
     "data": {
      "text/plain": [
       "array([[1, 2],\n",
       "       [3, 4],\n",
       "       [5, 6]])"
      ]
     },
     "execution_count": 33,
     "metadata": {},
     "output_type": "execute_result"
    }
   ],
   "source": [
    "# take a look at the data\n",
    "\n",
    "data"
   ]
  },
  {
   "cell_type": "code",
   "execution_count": 29,
   "id": "c4c27d5c-4297-4b2f-b121-29d64a124291",
   "metadata": {},
   "outputs": [],
   "source": [
    "def feature_scaling(data):\n",
    "\n",
    "    # normalize the data to start\n",
    "    minX = np.min(data, axis=0)\n",
    "    maxX = np.max(data, axis=0)\n",
    "    # calculate the output\n",
    "    ranges = maxX - minX\n",
    "    normalized_data = (data - minX)/ranges\n",
    "    # calculate the standardized data\n",
    "    mu = np.mean(data, axis=0)\n",
    "    stdDev = np.std(data, axis=0)\n",
    "    standardized_data = (data - mu) / stdDev\n",
    "    \n",
    "\n",
    "    return standardized_data, normalized_data"
   ]
  },
  {
   "cell_type": "code",
   "execution_count": 30,
   "id": "9caa444f-599c-4681-a87c-d13c8e91e65b",
   "metadata": {},
   "outputs": [],
   "source": [
    "std, norm = feature_scaling(data)"
   ]
  }
 ],
 "metadata": {
  "kernelspec": {
   "display_name": "Python 3 (ipykernel)",
   "language": "python",
   "name": "python3"
  },
  "language_info": {
   "codemirror_mode": {
    "name": "ipython",
    "version": 3
   },
   "file_extension": ".py",
   "mimetype": "text/x-python",
   "name": "python",
   "nbconvert_exporter": "python",
   "pygments_lexer": "ipython3",
   "version": "3.12.3"
  }
 },
 "nbformat": 4,
 "nbformat_minor": 5
}
