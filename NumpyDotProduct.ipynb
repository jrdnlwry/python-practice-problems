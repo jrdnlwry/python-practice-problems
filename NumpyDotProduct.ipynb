{
 "cells": [
  {
   "cell_type": "code",
   "execution_count": 16,
   "id": "3d5aa9ec-5484-4762-a73d-c054e2c19dfa",
   "metadata": {},
   "outputs": [],
   "source": [
    "# GOAL\n",
    "    # write a function to compute the dot product of a matrix and a vector.\n",
    "    # The function should return a list representing the resulting vector if the operator is valid, or -1 if the matrix and vector dimensions are incompatible.\n",
    "\n",
    "# INPUT\n",
    "    # a: 2d array   ---possibly\n",
    "    # b: vector     --- list\n",
    "\n",
    "# OUTPUT\n",
    "    # either the dot product: list\n",
    "    # -1\n",
    "\"\"\"\n",
    "    Convert the two elements into numpy array\n",
    "    First check if the two data structures are compatible.\n",
    "    For input of Matrix A: N x M requires a vector of lenth N\n",
    "\n",
    "    If they are perform the dot product otherwise return -1\n",
    "\"\"\"\n",
    "\n",
    "\n",
    "# a = [[1, 2], [2, 4]]\n",
    "\n",
    "a = [[1, 2, 3], [2, 4, 3], [6, 9, 0]]\n",
    "\n",
    "b = [1, 2]"
   ]
  },
  {
   "cell_type": "code",
   "execution_count": null,
   "id": "aa789377-4b89-40c2-9158-73207f02c166",
   "metadata": {},
   "outputs": [],
   "source": [
    "def matrix_dot_vector(a: list[list[int|float]], b: list[int|float]) -> list[int|float]:\n",
    "\t# Return a list where each element is the dot product of a row of 'a' with 'b'.\n",
    "\t# If the number of columns in 'a' does not match the length of 'b', return -1.\n",
    "    import numpy as np\n",
    "    A = np.array(a)\n",
    "    B = np.array(b)\n",
    "    # the cols of A must coincide with the rows of B\n",
    "    # we create variables to compare \n",
    "    cols = A.shape[1] # cols\n",
    "    rows = B.shape[0] # rows\n",
    "    if cols == rows:\n",
    "        C = np.dot(A,B)\n",
    "        return C\n",
    "    else:\n",
    "        return -1    "
   ]
  }
 ],
 "metadata": {
  "kernelspec": {
   "display_name": "Python 3 (ipykernel)",
   "language": "python",
   "name": "python3"
  },
  "language_info": {
   "codemirror_mode": {
    "name": "ipython",
    "version": 3
   },
   "file_extension": ".py",
   "mimetype": "text/x-python",
   "name": "python",
   "nbconvert_exporter": "python",
   "pygments_lexer": "ipython3",
   "version": "3.12.3"
  }
 },
 "nbformat": 4,
 "nbformat_minor": 5
}
