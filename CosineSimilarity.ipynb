{
 "cells": [
  {
   "cell_type": "markdown",
   "id": "9dc492bd-42d5-4be1-96ab-e1fe2060b528",
   "metadata": {},
   "source": [
    "### Calculate Cosine Similarity Between Vectors\n",
    "\n",
    "Complete a function `cosine_similarity(v1, v2)` that calculates the cosine similarity between two vectors.\n",
    "\n",
    "Cosine similarity measures the cosine of the angle between two vectors, indicating their directional similarity.\n",
    "\n",
    "**Input:**\n",
    " - `v1` and `v2`: Numpy arrays representing the input vectors\n",
    "\n",
    "**Output**:\n",
    "\n",
    "- A float representing the cosine similarity, rounded to three decimal places.\n",
    "\n",
    "**Constraints:**\n",
    "\n",
    "- Both input vectors must have the same shape: will need to build in a check to assess if the shapes match\n",
    "- Input vectors cannot be empty or have zero magnitude.\n",
    "\n",
    "\n",
    "**Strategy**\n",
    "\n",
    "1. Handle Input: ensure input vectors have the same dimensions and handle edge cases (i.e. zero vectors)\n",
    "2. Dot Product: compute the dot product of the two vectors\n",
    "3. Magitude: Compute the L2 norm for each vector\n",
    "4. Divide the dot product by the product of the magnitudes"
   ]
  },
  {
   "cell_type": "code",
   "execution_count": 1,
   "id": "bba24f62-1e7f-4962-9582-767483862690",
   "metadata": {},
   "outputs": [],
   "source": [
    "import numpy as np\n",
    "from sentence_transformers import SentenceTransformer"
   ]
  },
  {
   "cell_type": "code",
   "execution_count": 14,
   "id": "478e0e8a-4565-4807-a0c7-2d1a897d22ee",
   "metadata": {},
   "outputs": [],
   "source": [
    "# test cases\n",
    "\n",
    "v1 = np.array([1, 2, 3])\n",
    "v2 = np.array([2, 4, 6])"
   ]
  },
  {
   "cell_type": "code",
   "execution_count": 3,
   "id": "f26aff19-e574-4b4b-855e-f90f848c9e86",
   "metadata": {},
   "outputs": [
    {
     "data": {
      "text/plain": [
       "array([1, 2, 3])"
      ]
     },
     "execution_count": 3,
     "metadata": {},
     "output_type": "execute_result"
    }
   ],
   "source": [
    "v1"
   ]
  },
  {
   "cell_type": "code",
   "execution_count": 4,
   "id": "88e8f5dc-1e1c-4c4a-ae00-e4dd24119fda",
   "metadata": {},
   "outputs": [
    {
     "data": {
      "text/plain": [
       "array([2, 4, 6])"
      ]
     },
     "execution_count": 4,
     "metadata": {},
     "output_type": "execute_result"
    }
   ],
   "source": [
    "v2"
   ]
  },
  {
   "cell_type": "code",
   "execution_count": 8,
   "id": "44d5bb2a-5b9a-44ad-94a3-4c7879a99764",
   "metadata": {},
   "outputs": [],
   "source": [
    "def cosine_similarity(v1, v2):\n",
    "    \"\"\"\n",
    "    Return the cosine similarity of two vectors with matching shapes\n",
    "    \"\"\"\n",
    "    if v1.shape == v2.shape and v1.shape[0] != 0 and v2.shape != 0:\n",
    "        # calculate the dot product\n",
    "        dotProd = np.dot(v1, v2)\n",
    "        # calculate the L2 norm:\n",
    "        # 1. square each element in the vector\n",
    "        # 2. sum them together\n",
    "        # 3. take the square root\n",
    "        prodL2 = np.sqrt(np.sum(v1**2)) * np.sqrt(np.sum(v2**2))\n",
    "\n",
    "        return round(dotProd / prodL2, 3)\n",
    "    \n",
    "    else:\n",
    "        return None\n",
    "    \n",
    "\n",
    "\n",
    "#cosine_similarity(v1, v2)"
   ]
  },
  {
   "cell_type": "code",
   "execution_count": 49,
   "id": "77648060-fa6d-46de-a3f3-52b99c74a83d",
   "metadata": {},
   "outputs": [],
   "source": [
    "# from sentence_transformers import SentenceTransformer\n",
    "\n",
    "# # load a pretrained sentence transformer model\n",
    "# model = SentenceTransformer('all-MiniLM-L6-v2')\n",
    "# # define the string to vectorize\n",
    "# text = \"example\"\n",
    "# # generate the embedding (vector) for the string\n",
    "# embedding = model.encode(text)\n",
    "\n",
    "# print(\"Vector representation of the string:\")\n",
    "# print(embedding)\n",
    "# print(f\"Vector dimension: {len(embedding)}\")"
   ]
  },
  {
   "cell_type": "code",
   "execution_count": 11,
   "id": "a43c1548-78e2-4b87-953e-05caa420d989",
   "metadata": {},
   "outputs": [],
   "source": [
    "def vector_embedding(text):\n",
    "    \n",
    "    # load a pretrained sentence transformer model\n",
    "    model = SentenceTransformer('all-MiniLM-L6-v2')\n",
    "    # generate the embedding (vector) for the string\n",
    "    embedding = model.encode(text)\n",
    "\n",
    "    return embedding"
   ]
  },
  {
   "cell_type": "code",
   "execution_count": 12,
   "id": "3857ec32-2703-4f03-9fe2-ab2872f8176e",
   "metadata": {},
   "outputs": [],
   "source": [
    "v1 = vector_embedding(\"music\")\n",
    "v2 = vector_embedding(\"musical\")"
   ]
  },
  {
   "cell_type": "code",
   "execution_count": 15,
   "id": "250c9c64-2226-4e88-aef4-8a7db4794837",
   "metadata": {},
   "outputs": [
    {
     "data": {
      "text/plain": [
       "1.0"
      ]
     },
     "execution_count": 15,
     "metadata": {},
     "output_type": "execute_result"
    }
   ],
   "source": [
    "cosine_similarity(v1, v2)"
   ]
  },
  {
   "cell_type": "code",
   "execution_count": null,
   "id": "b76d0678-8b82-4d7c-8c46-13a65f8223a2",
   "metadata": {},
   "outputs": [],
   "source": []
  }
 ],
 "metadata": {
  "kernelspec": {
   "display_name": "Python 3 (ipykernel)",
   "language": "python",
   "name": "python3"
  },
  "language_info": {
   "codemirror_mode": {
    "name": "ipython",
    "version": 3
   },
   "file_extension": ".py",
   "mimetype": "text/x-python",
   "name": "python",
   "nbconvert_exporter": "python",
   "pygments_lexer": "ipython3",
   "version": "3.12.3"
  }
 },
 "nbformat": 4,
 "nbformat_minor": 5
}
