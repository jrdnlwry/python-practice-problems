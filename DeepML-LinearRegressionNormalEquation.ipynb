{
 "cells": [
  {
   "cell_type": "markdown",
   "id": "82861714-dcda-4289-ba5b-e3ba3f8e9a64",
   "metadata": {},
   "source": [
    "# Linear Regression Using Normal Equation\n",
    "\n",
    "Write a Python function that performs linear regression using the normal equation. The function should take a matrix X (features) and a vector y (target) as input, and return the coefficients of the linear regression model. Round your answer to four decimal places, -0.0 is a valid result for rounding a very small number.\n",
    "\n",
    "$\\theta=(X^TX)^{-1}X^Ty$"
   ]
  },
  {
   "cell_type": "code",
   "execution_count": 2,
   "id": "0d67225b-c3d4-4d9f-be65-776af46d90ed",
   "metadata": {},
   "outputs": [],
   "source": [
    "import numpy as np"
   ]
  },
  {
   "cell_type": "code",
   "execution_count": 4,
   "id": "0ecf0bf2-cf3a-481d-9fa6-d961d0e099b3",
   "metadata": {},
   "outputs": [],
   "source": [
    "X = [[1, 1], [1, 2], [1, 3]]\n",
    "\n",
    "y = [1, 2, 3]"
   ]
  },
  {
   "cell_type": "code",
   "execution_count": 25,
   "id": "a8d30d4c-3faf-4e95-914c-4a0b9a1aa91e",
   "metadata": {},
   "outputs": [],
   "source": [
    "def linear_regression_normal_equation(X: list[list[float]], y: list[float]) -> list[float]:\n",
    "    # Your code here, make sure to round\n",
    "    # display(X)\n",
    "    # display(y)\n",
    "    X = np.array(X)\n",
    "    y = np.array(y)\n",
    "    # find the dot product of X tranpose \n",
    "    A = np.dot(X.T, X)\n",
    "    # from the result find the inverse of the matrix\n",
    "    X_inv = np.linalg.inv(A)\n",
    "\n",
    "    X_res = np.dot(X_inv, X.T)\n",
    "    theta = np.dot(X_res, y)\n",
    "    \n",
    "    return np.round(theta, decimals=4)"
   ]
  },
  {
   "cell_type": "code",
   "execution_count": 26,
   "id": "62c767fd-7558-4797-b762-5956aa7460df",
   "metadata": {},
   "outputs": [
    {
     "data": {
      "text/plain": [
       "array([-0.,  1.])"
      ]
     },
     "execution_count": 26,
     "metadata": {},
     "output_type": "execute_result"
    }
   ],
   "source": [
    "linear_regression_normal_equation(X, y)"
   ]
  }
 ],
 "metadata": {
  "kernelspec": {
   "display_name": "Python 3 (ipykernel)",
   "language": "python",
   "name": "python3"
  },
  "language_info": {
   "codemirror_mode": {
    "name": "ipython",
    "version": 3
   },
   "file_extension": ".py",
   "mimetype": "text/x-python",
   "name": "python",
   "nbconvert_exporter": "python",
   "pygments_lexer": "ipython3",
   "version": "3.12.3"
  }
 },
 "nbformat": 4,
 "nbformat_minor": 5
}
