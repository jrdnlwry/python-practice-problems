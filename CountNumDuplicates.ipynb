{
 "cells": [
  {
   "cell_type": "markdown",
   "id": "da886a41-6b0f-44ca-841d-d8f623e253bd",
   "metadata": {},
   "source": [
    "# Count the number of Duplicates\n",
    "\n",
    "Write a function that will return the count of distinct case-insensitive alphabetic characters and numeric digits that occur more than once in the input string. The input string can be assumed to contain only alphabets (both uppercase and lowercase) and numeric digits.\n"
   ]
  },
  {
   "cell_type": "code",
   "execution_count": 1,
   "id": "e7095f8b-4134-40a0-b758-41cebb9f5b0a",
   "metadata": {},
   "outputs": [],
   "source": [
    "from collections import Counter"
   ]
  },
  {
   "cell_type": "code",
   "execution_count": 5,
   "id": "e3453dc8-e2c5-44fd-8464-167dcc38d930",
   "metadata": {},
   "outputs": [],
   "source": [
    "# test cases\n",
    "t1 = \"abcde\"\n",
    "t2 = \"abc123\"\n",
    "t3 = \"Indivisibilities\"\n",
    "t4 = \"abcdeaa\""
   ]
  },
  {
   "cell_type": "code",
   "execution_count": 20,
   "id": "5db04ddb-1c11-4cb5-8559-c045b3591377",
   "metadata": {},
   "outputs": [],
   "source": [
    "t = t3"
   ]
  },
  {
   "cell_type": "code",
   "execution_count": 27,
   "id": "385002d7-9172-4b6d-a5b2-b8843cd8725f",
   "metadata": {},
   "outputs": [],
   "source": [
    "def duplicate_count(text):\n",
    "    normTxt = \"\"\n",
    "    # normalize the text\n",
    "    t = text.lower() # lower case all values\n",
    "    # separate out digits\n",
    "    for w in t: \n",
    "        if w.isalpha() == True:\n",
    "            #print(w)\n",
    "            normTxt += w\n",
    "    \n",
    "    #display(normTxt)\n",
    "    # count the occurence of each variable\n",
    "    countDict = dict(Counter(normTxt))\n",
    "    # display(countDict)\n",
    "    summation = 0\n",
    "    # count the number of distinct values that occur > 2\n",
    "        # increment summation by '1' for each\n",
    "    for v in countDict.values():\n",
    "        #print(v)\n",
    "        if v >= 2:\n",
    "            summation += 1\n",
    "\n",
    "    return summation"
   ]
  },
  {
   "cell_type": "code",
   "execution_count": 28,
   "id": "010d1ee2-02f4-495d-b484-dfa6f550b0c6",
   "metadata": {},
   "outputs": [
    {
     "data": {
      "text/plain": [
       "2"
      ]
     },
     "execution_count": 28,
     "metadata": {},
     "output_type": "execute_result"
    }
   ],
   "source": [
    "duplicate_count(t3)"
   ]
  }
 ],
 "metadata": {
  "kernelspec": {
   "display_name": "Python 3 (ipykernel)",
   "language": "python",
   "name": "python3"
  },
  "language_info": {
   "codemirror_mode": {
    "name": "ipython",
    "version": 3
   },
   "file_extension": ".py",
   "mimetype": "text/x-python",
   "name": "python",
   "nbconvert_exporter": "python",
   "pygments_lexer": "ipython3",
   "version": "3.12.3"
  }
 },
 "nbformat": 4,
 "nbformat_minor": 5
}
