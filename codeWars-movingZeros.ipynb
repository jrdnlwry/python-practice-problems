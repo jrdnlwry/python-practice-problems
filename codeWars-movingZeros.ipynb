{
 "cells": [
  {
   "cell_type": "markdown",
   "id": "16a3ca88-3a33-401e-94cb-4b7bcf9f12d5",
   "metadata": {},
   "source": [
    "Write an algorithm that takes an array and moves all of the zeros to the end, preserving the order of the other elements."
   ]
  },
  {
   "cell_type": "code",
   "execution_count": 3,
   "id": "c4fb093d-c04c-4088-9cc1-1db5e3212185",
   "metadata": {},
   "outputs": [
    {
     "data": {
      "text/plain": [
       "[1, 1, 2, 1, 3, 0, 0]"
      ]
     },
     "metadata": {},
     "output_type": "display_data"
    }
   ],
   "source": [
    "# GOAL\n",
    "    # given a list element move all the zeros to the end of the array while preserving the order of the other elements.\n",
    "\n",
    "# INPUT\n",
    "    # List element\n",
    "    # [1, 0, 1, 2, 0, 1, 3]\n",
    "# OUTPUT\n",
    "    # list with all 0 elements moved to the end\n",
    "    # [1, 1, 2, 1, 3, 0, 0]\n",
    "\t\n",
    "# STRATEGY\n",
    "\"\"\"\n",
    "Identify how many zeros occur within the array\n",
    "Remove the zeros from the array\n",
    "Append the identified amount of zeros onto the end of the array \n",
    "\"\"\"\n",
    "myList = [1, 0, 1, 2, 0, 1, 3]\n",
    "# identify how many zeros occur within the array\n",
    "myList.count(0)\n",
    "for i in range(myList.count(0)):\n",
    "    myList.remove(0) # remove the zeros throughout the list\n",
    "    myList.append(0) # append the zeros to the end of the list\n",
    "display(myList)"
   ]
  }
 ],
 "metadata": {
  "kernelspec": {
   "display_name": "Python 3 (ipykernel)",
   "language": "python",
   "name": "python3"
  },
  "language_info": {
   "codemirror_mode": {
    "name": "ipython",
    "version": 3
   },
   "file_extension": ".py",
   "mimetype": "text/x-python",
   "name": "python",
   "nbconvert_exporter": "python",
   "pygments_lexer": "ipython3",
   "version": "3.12.3"
  }
 },
 "nbformat": 4,
 "nbformat_minor": 5
}
