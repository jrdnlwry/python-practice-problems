{
 "cells": [
  {
   "cell_type": "markdown",
   "id": "7b191ab3-a089-442e-9196-40c64600cfe7",
   "metadata": {},
   "source": [
    "## Orthogonal Complements"
   ]
  },
  {
   "cell_type": "markdown",
   "id": "6a68bfc8-04b4-405a-99d3-7b6fd2117f55",
   "metadata": {},
   "source": [
    "Resource: https://www.youtube.com/watch?v=ZIzB2LmXs0c&ab_channel=STEMSupport"
   ]
  },
  {
   "cell_type": "code",
   "execution_count": 1,
   "id": "750cabbc-7399-4141-9893-7f7551cd4da9",
   "metadata": {},
   "outputs": [],
   "source": [
    "import numpy as np\n",
    "from sympy import Matrix, symbols, Eq, solve_linear_system\n",
    "from scipy.linalg import null_space"
   ]
  },
  {
   "cell_type": "code",
   "execution_count": 2,
   "id": "eb64c7d7-4a38-4bdc-8b90-d2bb556aab78",
   "metadata": {},
   "outputs": [],
   "source": [
    "V1= np.array([[1],\n",
    "             [7],\n",
    "             [2]])\n",
    "\n",
    "V2= np.array([[-2],\n",
    "             [3],\n",
    "             [1]])"
   ]
  },
  {
   "cell_type": "code",
   "execution_count": 43,
   "id": "ef5d6fb7-ac00-47f4-968c-d082d6f85638",
   "metadata": {},
   "outputs": [
    {
     "data": {
      "text/latex": [
       "$\\displaystyle \\left[\\begin{matrix}1 & 0 & - \\frac{1}{17}\\\\0 & 1 & \\frac{5}{17}\\end{matrix}\\right]$"
      ],
      "text/plain": [
       "Matrix([\n",
       "[1, 0, -1/17],\n",
       "[0, 1,  5/17]])"
      ]
     },
     "metadata": {},
     "output_type": "display_data"
    }
   ],
   "source": [
    "V = np.array([\n",
    "    [1, 7, 2],\n",
    "    [-2, 3, 1]\n",
    "])\n",
    "V_matrix = Matrix(V)\n",
    "rref_matrix, pivot_cols = V_matrix.rref()\n",
    "display(rref_matrix)"
   ]
  },
  {
   "cell_type": "code",
   "execution_count": 48,
   "id": "1fce9d6b-6b36-49fc-b047-dac0082d4496",
   "metadata": {},
   "outputs": [
    {
     "data": {
      "text/plain": [
       "array([[0]])"
      ]
     },
     "execution_count": 48,
     "metadata": {},
     "output_type": "execute_result"
    }
   ],
   "source": [
    "solveV = np.array([[1],\n",
    "                  [-5],\n",
    "                  [17]])\n",
    "\n",
    "np.dot(V1.T, solveV)  # the dot product yields 0 which confirms our solution is solved"
   ]
  },
  {
   "cell_type": "markdown",
   "id": "62b7ef30-5c52-4f95-830f-7d0fde6188a6",
   "metadata": {},
   "source": [
    "### Compute the Orthogonal Complement\n",
    "\n",
    "1. find the transpose of the two arrays\n",
    "2. create a matrix out of the two arrays\n",
    "3. Row reduce to simplify the matrices\n",
    "4. Set up and solve a system of linear equations\n",
    "5. Verify the result by taking the dot product of the output against one of the transposed arrays"
   ]
  },
  {
   "cell_type": "markdown",
   "id": "8dded9db-5530-4b79-a9a5-605c5fb22537",
   "metadata": {
    "jp-MarkdownHeadingCollapsed": true
   },
   "source": [
    "### Example problem: 3 dimensional matrix"
   ]
  },
  {
   "cell_type": "code",
   "execution_count": 51,
   "id": "f1a7d80a-df1d-4466-a374-39e404b70e12",
   "metadata": {},
   "outputs": [],
   "source": [
    "# define our vector arrays\n",
    "# from here we need to transpose each vector then concatenate them together before we row reduce\n",
    "W1 = np.array([\n",
    "    [1],\n",
    "    [0],\n",
    "    [2],\n",
    "    [3]\n",
    "])\n",
    "\n",
    "W2 = np.array([\n",
    "    [2],\n",
    "    [1],\n",
    "    [0],\n",
    "    [-1]\n",
    "])"
   ]
  },
  {
   "cell_type": "code",
   "execution_count": 64,
   "id": "fe67cb9a-cfb2-4a01-9ea3-3140177e1f95",
   "metadata": {},
   "outputs": [
    {
     "data": {
      "text/plain": [
       "array([[ 1,  0,  2,  3],\n",
       "       [ 2,  1,  0, -1]])"
      ]
     },
     "metadata": {},
     "output_type": "display_data"
    },
    {
     "data": {
      "text/plain": [
       "array([[ 1,  0,  2,  3,  0],\n",
       "       [ 2,  1,  0, -1,  0]])"
      ]
     },
     "metadata": {},
     "output_type": "display_data"
    }
   ],
   "source": [
    "# concatenate the vectors together\n",
    "W = np.concatenate((W1.T,W2.T), axis=0)\n",
    "display(W)\n",
    "z = np.array([[0],\n",
    "         [0]])\n",
    "\n",
    "W_sys = np.concatenate((W, z), axis=1)\n",
    "display(W_sys)"
   ]
  },
  {
   "cell_type": "code",
   "execution_count": 59,
   "id": "19353e8c-7c6c-4c48-aff3-9cb9df455c1e",
   "metadata": {},
   "outputs": [
    {
     "data": {
      "text/latex": [
       "$\\displaystyle \\left[\\begin{matrix}1 & 0 & 2 & 3\\\\0 & 1 & -4 & -7\\end{matrix}\\right]$"
      ],
      "text/plain": [
       "Matrix([\n",
       "[1, 0,  2,  3],\n",
       "[0, 1, -4, -7]])"
      ]
     },
     "metadata": {},
     "output_type": "display_data"
    }
   ],
   "source": [
    "# row reduce the matrix\n",
    "W_matrix = Matrix(W)\n",
    "rref_matrix, pivot_cols = W_matrix.rref()\n",
    "display(rref_matrix)"
   ]
  },
  {
   "cell_type": "markdown",
   "id": "163e1c42-b67a-4978-be16-563cef362424",
   "metadata": {},
   "source": [
    "Solve $Vx=0$ to find the set of vectors orthogonal to both v1 and v2"
   ]
  },
  {
   "cell_type": "code",
   "execution_count": 65,
   "id": "49c64869-e654-41d9-aa9d-7e25f054faa3",
   "metadata": {},
   "outputs": [
    {
     "data": {
      "text/plain": [
       "{x1: -2*x3 - 3*x4, x2: 4*x3 + 7*x4}"
      ]
     },
     "metadata": {},
     "output_type": "display_data"
    }
   ],
   "source": [
    "# define the variables\n",
    "x1, x2, x3, x4 = symbols('x1 x2 x3 x4')\n",
    "# solve the system\n",
    "solution = solve_linear_system(W_sys, x1, x2, x3, x4)\n",
    "display(solution)"
   ]
  },
  {
   "cell_type": "markdown",
   "id": "7d981805-158b-45e7-b144-d6c6859e66c9",
   "metadata": {},
   "source": [
    "## Workspace"
   ]
  },
  {
   "cell_type": "code",
   "execution_count": 4,
   "id": "9508c9db-f684-4ec2-9f93-2b36ca75b451",
   "metadata": {},
   "outputs": [
    {
     "data": {
      "text/latex": [
       "$\\displaystyle \\left[\\begin{matrix}1 & 1 & 0\\\\0 & 0 & 1\\end{matrix}\\right]$"
      ],
      "text/plain": [
       "Matrix([\n",
       "[1, 1, 0],\n",
       "[0, 0, 1]])"
      ]
     },
     "metadata": {},
     "output_type": "display_data"
    }
   ],
   "source": [
    "B = np.array([\n",
    "    [1, 1, -1],\n",
    "    [1, 1, 1]\n",
    "])\n",
    "bMatrix = Matrix(B)\n",
    "rref_matrix, pivot_cols = bMatrix.rref()\n",
    "display(rref_matrix)"
   ]
  }
 ],
 "metadata": {
  "kernelspec": {
   "display_name": "Python 3 (ipykernel)",
   "language": "python",
   "name": "python3"
  },
  "language_info": {
   "codemirror_mode": {
    "name": "ipython",
    "version": 3
   },
   "file_extension": ".py",
   "mimetype": "text/x-python",
   "name": "python",
   "nbconvert_exporter": "python",
   "pygments_lexer": "ipython3",
   "version": "3.12.3"
  }
 },
 "nbformat": 4,
 "nbformat_minor": 5
}
