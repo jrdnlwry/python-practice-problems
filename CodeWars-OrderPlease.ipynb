{
 "cells": [
  {
   "cell_type": "markdown",
   "id": "84f9dafe-b931-4cae-9085-2015a93a3d27",
   "metadata": {},
   "source": [
    "**Helpful resources**:\n",
    "\n",
    "- https://www.geeksforgeeks.org/python-remove-none-values-from-list/\n",
    "- https://www.geeksforgeeks.org/remove-elements-from-a-list-based-on-condition-in-python/\n",
    "- https://www.geeksforgeeks.org/list-methods-python/"
   ]
  },
  {
   "cell_type": "code",
   "execution_count": 50,
   "id": "4ca94783-9720-4cba-a699-3d314bc18c09",
   "metadata": {},
   "outputs": [
    {
     "data": {
      "text/plain": [
       "['Fo1r', 'the2', 'g3ood', '4of', 'th5e', 'pe6ople']"
      ]
     },
     "metadata": {},
     "output_type": "display_data"
    }
   ],
   "source": [
    "# GOAL\n",
    "    # Sort a given string\n",
    "    # each word in the string will contain a single number\n",
    "    # this number is the position the word should have in the result\n",
    "\n",
    "# NOTE: numbers go from 1-9\n",
    "\n",
    "# INPUT\n",
    "    # string element\n",
    "    # \"is2 Thi1s T4est 3a\"\n",
    "\n",
    "# OUTPUT\n",
    "    # sorted string element\n",
    "    # \"Thi1s is2 3a T4est\"\n",
    "\t\n",
    "# STRATEGY\n",
    "\n",
    "\"\"\"\n",
    "Initialize a list element the length of the split string with None (or any placeholder)\n",
    "    this should store the sorted strings as we encounter them\n",
    "\n",
    "Build in checks to handle edge cases for when there are no inputs\n",
    "    \n",
    "Split the input string into a list element\n",
    "For each element identify the integer within the string (use regex to identify the element)\n",
    "    depending on the identified integer element that is the location the string will be inserted into the array\n",
    "    Instead of insert additional elements in the lsit which messes up the indexing - replace items instead\n",
    "    --> note subtract 1 to account for zero base indexing\n",
    "\n",
    "reElem = re.search(r\"[0-9]+$\", srngCopy)\n",
    "reElem.group()\n",
    "\"\"\"\n",
    "\n",
    "def order(sentence):\n",
    "    import copy\n",
    "    import re\n",
    "    \n",
    "    returnElem = []\n",
    "    \n",
    "    if len(sentence) < 1:\n",
    "        return \"\"\n",
    "    else:\n",
    "        for i in range(len(sentence.split(\" \"))):\n",
    "            returnElem.append(None)\n",
    "        for i in sentence.split(\" \"):\n",
    "            intElem = re.search(r\"[0-9]\",i)\n",
    "            returnElem[int(intElem.group())-1] = i\n",
    "            \n",
    "        return ' '.join(returnElem)\n"
   ]
  },
  {
   "cell_type": "code",
   "execution_count": 66,
   "id": "35df75e9-dd46-442f-8343-e6462e45981d",
   "metadata": {},
   "outputs": [
    {
     "data": {
      "text/plain": [
       "'Fo1r the2 g3ood 4of th5e pe6ople'"
      ]
     },
     "execution_count": 66,
     "metadata": {},
     "output_type": "execute_result"
    }
   ],
   "source": [
    "order(\"4of Fo1r pe6ople g3ood th5e the2\")"
   ]
  }
 ],
 "metadata": {
  "kernelspec": {
   "display_name": "Python 3 (ipykernel)",
   "language": "python",
   "name": "python3"
  },
  "language_info": {
   "codemirror_mode": {
    "name": "ipython",
    "version": 3
   },
   "file_extension": ".py",
   "mimetype": "text/x-python",
   "name": "python",
   "nbconvert_exporter": "python",
   "pygments_lexer": "ipython3",
   "version": "3.12.3"
  }
 },
 "nbformat": 4,
 "nbformat_minor": 5
}
