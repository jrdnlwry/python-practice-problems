{
 "cells": [
  {
   "cell_type": "code",
   "execution_count": null,
   "id": "86156eab-455d-4316-a1dc-546e1119401d",
   "metadata": {},
   "outputs": [],
   "source": [
    "# Logic"
   ]
  },
  {
   "cell_type": "raw",
   "id": "f9ddab4e-b727-4225-99e9-b62c9da73735",
   "metadata": {},
   "source": [
    "Input: nums = [1, 2, 3, 3]\n",
    "\n",
    "Output: true"
   ]
  },
  {
   "cell_type": "code",
   "execution_count": null,
   "id": "8eea1033-baf2-4128-9ecb-516b7525ca3b",
   "metadata": {},
   "outputs": [],
   "source": [
    "Input: nums = [1, 2, 3, 4]\n",
    "\n",
    "Output: false"
   ]
  },
  {
   "cell_type": "raw",
   "id": "b6d72811-d52e-419e-9800-c5d91b2cd74f",
   "metadata": {},
   "source": [
    "Contains Duplicate\n",
    "\n",
    "Given an integer array nums, return true if any value appears more than once in the array, otherwise return false."
   ]
  },
  {
   "cell_type": "code",
   "execution_count": 39,
   "id": "c392b624-051c-4a3a-a65b-6fc3bb31a665",
   "metadata": {},
   "outputs": [],
   "source": [
    "# test cases\n",
    "nums1 = [1, 2, 3, 3]\n",
    "nums2 = [1, 2, 3, 4]\n",
    "nums3 = [1, 1, 2, 3, 10]"
   ]
  },
  {
   "cell_type": "code",
   "execution_count": 4,
   "id": "90a51eee-9313-4daf-9b22-c34fcef005ba",
   "metadata": {},
   "outputs": [
    {
     "data": {
      "text/plain": [
       "[1, 2, 3, 3]"
      ]
     },
     "execution_count": 4,
     "metadata": {},
     "output_type": "execute_result"
    }
   ],
   "source": [
    "nums1"
   ]
  },
  {
   "cell_type": "code",
   "execution_count": 61,
   "id": "93a6b8ad-d684-4c79-b8da-9315611779db",
   "metadata": {},
   "outputs": [
    {
     "data": {
      "text/plain": [
       "True"
      ]
     },
     "execution_count": 61,
     "metadata": {},
     "output_type": "execute_result"
    }
   ],
   "source": [
    "def containDup(n):\n",
    "    # enumerate through the indices in the array\n",
    "    # store the first index/value\n",
    "    # compare it to the next in the array then increment by 1\n",
    "    prev = 0\n",
    "    for i in range(1, len(n)):\n",
    "        #print(i, n[i])\n",
    "        if n[prev] != n[i]:\n",
    "            #print(n[prev],n[i], True)\n",
    "            prev += 1\n",
    "\n",
    "        else:\n",
    "            return True\n",
    "\n",
    "\n",
    "    return False\n",
    "            \n",
    "            \n",
    "containDup(nums1)"
   ]
  }
 ],
 "metadata": {
  "kernelspec": {
   "display_name": "Python 3 (ipykernel)",
   "language": "python",
   "name": "python3"
  },
  "language_info": {
   "codemirror_mode": {
    "name": "ipython",
    "version": 3
   },
   "file_extension": ".py",
   "mimetype": "text/x-python",
   "name": "python",
   "nbconvert_exporter": "python",
   "pygments_lexer": "ipython3",
   "version": "3.12.3"
  }
 },
 "nbformat": 4,
 "nbformat_minor": 5
}
