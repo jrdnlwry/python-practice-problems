{
 "cells": [
  {
   "cell_type": "markdown",
   "id": "03d52e25-c7b4-48e3-b32f-61c81a4503f5",
   "metadata": {},
   "source": [
    "## Consecutive strings"
   ]
  },
  {
   "cell_type": "markdown",
   "id": "03e3badc-e86d-4d96-91de-4489839c258d",
   "metadata": {},
   "source": [
    "You are given an array(list) strarr of strings and an integer k.\n",
    "\n",
    "Your task is to return the first longest string consisting of k consecutive strings taken in the array."
   ]
  },
  {
   "cell_type": "code",
   "execution_count": null,
   "id": "14f37f0b-f402-47cd-a707-23991034d2c0",
   "metadata": {},
   "outputs": [],
   "source": [
    "\"\"\"\n",
    "\n",
    "strarr = [\"tree\", \"foling\", \"trashy\", \"blue\", \"abcdef\", \"uvwxyz\"], k = 2\n",
    "\n",
    "Concatenate the consecutive strings of strarr by 2, we get:\n",
    "\n",
    "treefoling   (length 10)  concatenation of strarr[0] and strarr[1]\n",
    "folingtrashy (\"      12)  concatenation of strarr[1] and strarr[2]\n",
    "trashyblue   (\"      10)  concatenation of strarr[2] and strarr[3]\n",
    "blueabcdef   (\"      10)  concatenation of strarr[3] and strarr[4]\n",
    "abcdefuvwxyz (\"      12)  concatenation of strarr[4] and strarr[5]\n",
    "\n",
    "Two strings are the longest: \"folingtrashy\" and \"abcdefuvwxyz\".\n",
    "The first that came is \"folingtrashy\" so \n",
    "longest_consec(strarr, 2) should return \"folingtrashy\".\n",
    "\n",
    "In the same way:\n",
    "longest_consec([\"zone\", \"abigail\", \"theta\", \"form\", \"libe\", \"zas\", \"theta\", \"abigail\"], 2) --> \"abigailtheta\"\n",
    "\n",
    "\"\"\""
   ]
  },
  {
   "cell_type": "markdown",
   "id": "56a6ae34-e8a2-4fcf-8aa8-851926db3e41",
   "metadata": {},
   "source": [
    "**n:** being the length of the string array, if n = 0 or k > n or k <= 0 return \"\" (return Nothing in Elm, \"nothing\" in Erlang).\n",
    "\n",
    "**Note**\n",
    "consecutive strings: follow one after another without an interruption"
   ]
  },
  {
   "cell_type": "code",
   "execution_count": 68,
   "id": "5cfb49a2-a5c2-47bc-859b-052ec61919a4",
   "metadata": {},
   "outputs": [],
   "source": [
    "import itertools\n",
    "\n",
    "def longest_consec(strarr, k):\n",
    "    # Iterate through and create combinations of the indices (or strings).\n",
    "    # Concatenate them together, find the length and save it to a List of Tuples.\n",
    "    # Identify the first LONGEST concatenated string and return it.\n",
    "    if len(strarr) == 0:\n",
    "        return \"\"\n",
    "    elif k <= 0:\n",
    "        return \"\"\n",
    "    elif k > len(strarr):\n",
    "        return \"\"\n",
    "    else:\n",
    "        combinations = []\n",
    "        for i in range(len(strarr) - k + 1):\n",
    "            #print(strarr[i:i+k])\n",
    "            combo = strarr[i:i+k]\n",
    "            strCat = \"\".join(combo)\n",
    "            length = len(strCat)\n",
    "            tup = (strCat, length, i)\n",
    "            combinations.append(tuple(tup))\n",
    "        \n",
    "        # sort and return the appropriate output\n",
    "        res = sorted(combinations, key=lambda x: (-x[1], x[2]))\n",
    "        \n",
    "        return res[0][0]"
   ]
  },
  {
   "cell_type": "code",
   "execution_count": 70,
   "id": "1da61dfc-3237-47db-acce-b74e9db5f758",
   "metadata": {},
   "outputs": [],
   "source": [
    "# Test cases\n",
    "list1 = [\"zone\", \"abigail\", \"theta\", \"form\", \"libe\", \"zas\"]\n",
    "list2 = [\"tree\", \"foling\", \"trashy\", \"blue\", \"abcdef\", \"uvwxyz\"]\n",
    "list3 = [\"it\",\"wkppv\",\"ixoyx\", \"3452\", \"zzzzzzzzzzzz\"]\n",
    "list4 = [\"it\",\"wkppv\",\"ixoyx\", \"3452\", \"zzzzzzzzzzzz\"]\n",
    "K = 3"
   ]
  },
  {
   "cell_type": "code",
   "execution_count": 71,
   "id": "24224275-bdfb-4580-8aa0-a27b6dcbc5eb",
   "metadata": {},
   "outputs": [
    {
     "data": {
      "text/plain": [
       "'ixoyx3452zzzzzzzzzzzz'"
      ]
     },
     "metadata": {},
     "output_type": "display_data"
    }
   ],
   "source": [
    "res = longest_consec(list4, K)\n",
    "display(res)"
   ]
  }
 ],
 "metadata": {
  "kernelspec": {
   "display_name": "Python 3 (ipykernel)",
   "language": "python",
   "name": "python3"
  },
  "language_info": {
   "codemirror_mode": {
    "name": "ipython",
    "version": 3
   },
   "file_extension": ".py",
   "mimetype": "text/x-python",
   "name": "python",
   "nbconvert_exporter": "python",
   "pygments_lexer": "ipython3",
   "version": "3.12.3"
  }
 },
 "nbformat": 4,
 "nbformat_minor": 5
}
