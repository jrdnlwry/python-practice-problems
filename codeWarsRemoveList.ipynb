{
 "cells": [
  {
   "cell_type": "code",
   "execution_count": 44,
   "id": "a8581cfe-277e-4356-863f-312ac0d049ba",
   "metadata": {},
   "outputs": [
    {
     "name": "stdout",
     "output_type": "stream",
     "text": [
      "1 5\n",
      "3 4\n",
      "5 1\n",
      "4 1\n",
      "2 4\n",
      "[1, 2, 3, 1, 1, 2, 2, 3, 3, 4, 5]\n"
     ]
    }
   ],
   "source": [
    "# GOAL\n",
    "    # remove numbers such that the list contains each number only up to N times, without changing the order\n",
    "    # given a lsit and a int: number - create a new list that contains each number of list at most N times, without reordering.\n",
    "\n",
    "# INPUT\n",
    "    # List element: [1,2,3,1,2,1,2,3]\n",
    "    # int: 2\n",
    "\n",
    "# OUTPUT\n",
    "    # list element: [1,2,3,1,2,3]\n",
    "\t\n",
    "# STRATEGY\n",
    "\n",
    "\"\"\"\n",
    "Count the occurence of each element in the list\n",
    "For instances where an element occurs > N times\n",
    "    Calculate the difference: how many instances of an item to remove\n",
    "    \n",
    "    \n",
    "Remove that element from the input list\n",
    "Return the input list \n",
    "\"\"\"\n",
    "from collections import Counter\n",
    "\n",
    "inputList = [1, 2, 3, 1, 1, 2, 1, 2, 3, 3, 2, 4, 5, 3, 1]\n",
    "inputList.reverse()\n",
    "\n",
    "# [11, 11, 28, 34, 23, 28, 11, 23, 23, 28, 34, 20, 20, 25, 33]\n",
    "N = 3\n",
    "\n",
    "countList = Counter(inputList)\n",
    "\n",
    "# display(countList)\n",
    "# identify how many times to remove each item\n",
    "for key, value in countList.items():\n",
    "    print(key, value)\n",
    "    r = value - N # if >= than 1 remove the element that many times\n",
    "    #print(key, r)\n",
    "    if r >= 1:\n",
    "        for i in range(r):\n",
    "            # print(key, r)\n",
    "            inputList.remove(key)\n",
    "inputList.reverse()\n",
    "print(inputList)"
   ]
  },
  {
   "cell_type": "markdown",
   "id": "71fb1930-1b6a-4832-919b-a80441fb8529",
   "metadata": {},
   "source": [
    "Syntax: list_name.index(element, start, end) \n",
    "\n",
    "Parameters: \n",
    "\n",
    "element: The element whose lowest index will be returned.\n",
    "    \n",
    "start(optional): The position from where the search begins.\n",
    "    \n",
    "end(optional): The position from where the search ends."
   ]
  }
 ],
 "metadata": {
  "kernelspec": {
   "display_name": "Python 3 (ipykernel)",
   "language": "python",
   "name": "python3"
  },
  "language_info": {
   "codemirror_mode": {
    "name": "ipython",
    "version": 3
   },
   "file_extension": ".py",
   "mimetype": "text/x-python",
   "name": "python",
   "nbconvert_exporter": "python",
   "pygments_lexer": "ipython3",
   "version": "3.12.3"
  }
 },
 "nbformat": 4,
 "nbformat_minor": 5
}
