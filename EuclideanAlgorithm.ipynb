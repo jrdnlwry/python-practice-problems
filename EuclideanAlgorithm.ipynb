{
 "cells": [
  {
   "cell_type": "markdown",
   "id": "0c3222bd-b15a-44bc-9f2b-34a0689aff3f",
   "metadata": {},
   "source": [
    "## Problem\n",
    "\n",
    "Find the Greatest Common Divisor (GCD) of two positive integers $a$ and $b$, which is defined as the largest number $g=gcd(a, b)$ such that $g$ divides both $a$ and $b$ without remainder.\n",
    "\n",
    "Resource: https://github.com/TheAlgorithms/Algorithms-Explanation/blob/master/en/Basic%20Math/Euclidean%20algorithm.md"
   ]
  },
  {
   "cell_type": "code",
   "execution_count": 2,
   "id": "01dfaac3-b31e-445f-a2b3-c063a918c17b",
   "metadata": {},
   "outputs": [],
   "source": [
    "# implementation using the modulo divsion\n",
    "\n",
    "# function gcd(a, b)\n",
    "# \twhile b ~= 0 do\n",
    "# \t\ta, b = b, a % b\n",
    "# \tend\n",
    "# \treturn a\n",
    "# end"
   ]
  },
  {
   "cell_type": "markdown",
   "id": "43bce1ba-343a-4a70-a63e-07d17fec5278",
   "metadata": {},
   "source": [
    "This is implemented using Euclids method for computing the greatest common divsiors which is based on the fact that given two positive integers $a$ and $b$ such that $a$ > $b$, the common divisors of $a$ and $b$ are the same as the common divisors of $a-b$  and $b$."
   ]
  },
  {
   "cell_type": "code",
   "execution_count": null,
   "id": "504bd0b7-8fff-4b9e-8fc6-85750ab5c4cf",
   "metadata": {},
   "outputs": [],
   "source": [
    "# Test cases\n",
    "# gcd = [42, 12]  # gcd(42,12) = 6\n",
    "# gcd = [633, 142]  # gcd(633,142) = 1\n",
    "# gcd = [48, 18]  # gcd(48,18) = 6"
   ]
  },
  {
   "cell_type": "code",
   "execution_count": 63,
   "id": "2aca89a0-32df-4cbe-8e5c-11377b1b6037",
   "metadata": {},
   "outputs": [
    {
     "data": {
      "text/plain": [
       "[633, 142]"
      ]
     },
     "execution_count": 63,
     "metadata": {},
     "output_type": "execute_result"
    }
   ],
   "source": [
    "gcd = [633, 142]\n",
    "gcd"
   ]
  },
  {
   "cell_type": "code",
   "execution_count": 64,
   "id": "bcd44f9c-5a4e-41ee-8f5c-82e6a65a5f60",
   "metadata": {},
   "outputs": [],
   "source": [
    "def great_comm_denom(g: list):\n",
    "\n",
    "    if g[0] > g[1]:\n",
    "        # subtract [1] from [0]: [0] - [1] ~ result becomes the new [0]\n",
    "        gcd[0] = g[0] - g[1]\n",
    "        #gcd[1] = gcd[1]\n",
    "        #print(True)\n",
    "    elif g[0] < g[1]:\n",
    "        # subtract [0] from [1]: [1] - [0] ~ result becomes the new [0]\n",
    "        gcd[1] = g[1] - g[0]\n",
    "        #print(False)\n",
    "    else:\n",
    "        pass\n",
    "\n",
    "    return None"
   ]
  },
  {
   "cell_type": "code",
   "execution_count": 65,
   "id": "c423ac7f-12ba-432f-897a-7211f2879274",
   "metadata": {},
   "outputs": [
    {
     "name": "stdout",
     "output_type": "stream",
     "text": [
      "1\n"
     ]
    }
   ],
   "source": [
    "while gcd[0] != gcd[1]:\n",
    "    great_comm_denom(gcd)\n",
    "print(gcd[0])"
   ]
  },
  {
   "cell_type": "code",
   "execution_count": 66,
   "id": "0722f457-1a31-4016-a6b0-3ed2bd8eed30",
   "metadata": {},
   "outputs": [
    {
     "data": {
      "text/plain": [
       "[1, 1]"
      ]
     },
     "execution_count": 66,
     "metadata": {},
     "output_type": "execute_result"
    }
   ],
   "source": [
    "gcd"
   ]
  }
 ],
 "metadata": {
  "kernelspec": {
   "display_name": "Python 3 (ipykernel)",
   "language": "python",
   "name": "python3"
  },
  "language_info": {
   "codemirror_mode": {
    "name": "ipython",
    "version": 3
   },
   "file_extension": ".py",
   "mimetype": "text/x-python",
   "name": "python",
   "nbconvert_exporter": "python",
   "pygments_lexer": "ipython3",
   "version": "3.12.3"
  }
 },
 "nbformat": 4,
 "nbformat_minor": 5
}
